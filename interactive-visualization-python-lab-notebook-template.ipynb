{
 "cells": [
  {
   "cell_type": "markdown",
   "metadata": {},
   "source": [
    "# ADD COURSE TITLE HERE\n",
    "\n",
    "Student Name: **Enter Your Name Here (Double click to edit)**\n",
    "<br>\n",
    "Net ID: **Enter Your NetID Here (Double click to edit)**\n",
    "<br>\n",
    "Title: **Interactive Visualization in Python**"
   ]
  },
  {
   "cell_type": "markdown",
   "metadata": {},
   "source": [
    "<b>Q1: Build at least three different types of figures using plotly and data stored in a Pandas DataFrame. Include code + comments.\n",
    "\n",
    "Each plot should include the following elements:\n",
    "- Title\n",
    "- Axis labels\n",
    "- Legend\n",
    "- Scale or tickmarks\n",
    "- Hover label\n",
    "- Data source\n",
    "\n",
    "Plot types to choose from:\n",
    "- Line plots\n",
    "- Bar chart\n",
    "- Grouped bar chart\n",
    "- Horizontal bar chart\n",
    "- Stacked bar chart\n",
    "- Histogram\n",
    "- Box plot\n",
    "- Area plot\n",
    "- Scatter plot\n",
    "- Pie chart\n",
    "- Donut chart\n",
    "- Sunburst chart\n",
    "- Table</b>"
   ]
  },
  {
   "cell_type": "markdown",
   "metadata": {},
   "source": [
    "**AnswerQ1**: Your answer here (double click to edit)"
   ]
  },
  {
   "cell_type": "code",
   "execution_count": 1,
   "metadata": {},
   "outputs": [],
   "source": [
    "# your codes here (if needed)"
   ]
  },
  {
   "cell_type": "markdown",
   "metadata": {},
   "source": [
    "<b>Q2: Build at least two different types of maps using plotly. Include code + comments. Each plot should include the following elements:\n",
    "- Title\n",
    "- Hover labels\n",
    "- Scale\n",
    "- Data source\n",
    "\n",
    "Types of maps to choose from:\n",
    "- Geo Maps, or Outline-Based Maps\n",
    "  * Point map\n",
    "  * Choropleth map\n",
    "- Mapbox or Tile-Based Maps\n",
    "  * Point map\n",
    "  * Choropleth map</b>"
   ]
  },
  {
   "cell_type": "markdown",
   "metadata": {},
   "source": [
    "**AnswerQ2**: Your answer here (double click to edit)"
   ]
  },
  {
   "cell_type": "code",
   "execution_count": 2,
   "metadata": {},
   "outputs": [],
   "source": [
    "# your codes here (if needed)"
   ]
  },
  {
   "cell_type": "markdown",
   "metadata": {},
   "source": [
    "**Q3: Add to the code for at least one of the figures generated earlier in this lab to save the figure as a static image. Include code + comments.**"
   ]
  },
  {
   "cell_type": "markdown",
   "metadata": {},
   "source": [
    "**AnswerQ3**: Your answer here (double click to edit)"
   ]
  },
  {
   "cell_type": "code",
   "execution_count": 3,
   "metadata": {},
   "outputs": [],
   "source": [
    "# your codes here (if needed)"
   ]
  },
  {
   "cell_type": "markdown",
   "metadata": {},
   "source": [
    "**Q4: Add to the code for at least one of the figures generated earlier in this lab to save the figure as an HTML file. Include code + comments.**"
   ]
  },
  {
   "cell_type": "markdown",
   "metadata": {},
   "source": [
    "**AnswerQ4**: Your answer here (double click to edit)"
   ]
  },
  {
   "cell_type": "code",
   "execution_count": 4,
   "metadata": {},
   "outputs": [],
   "source": [
    "# your codes here (if needed)"
   ]
  }
 ],
 "metadata": {
  "kernelspec": {
   "display_name": "Python 3",
   "language": "python",
   "name": "python3"
  },
  "language_info": {
   "codemirror_mode": {
    "name": "ipython",
    "version": 3
   },
   "file_extension": ".py",
   "mimetype": "text/x-python",
   "name": "python",
   "nbconvert_exporter": "python",
   "pygments_lexer": "ipython3",
   "version": "3.8.5"
  }
 },
 "nbformat": 4,
 "nbformat_minor": 4
}
