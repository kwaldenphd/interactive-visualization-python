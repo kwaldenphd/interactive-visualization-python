{
  "nbformat": 4,
  "nbformat_minor": 0,
  "metadata": {
    "colab": {
      "name": "kaleido-install-troubleshooting.ipynb",
      "provenance": [],
      "authorship_tag": "ABX9TyP/hIuWPnGqmPveK59Ntb0O",
      "include_colab_link": true
    },
    "kernelspec": {
      "name": "python3",
      "display_name": "Python 3"
    },
    "language_info": {
      "name": "python"
    }
  },
  "cells": [
    {
      "cell_type": "markdown",
      "metadata": {
        "id": "view-in-github",
        "colab_type": "text"
      },
      "source": [
        "<a href=\"https://colab.research.google.com/github/kwaldenphd/interactive-visualization-python/blob/main/kaleido_install_troubleshooting.ipynb\" target=\"_parent\"><img src=\"https://colab.research.google.com/assets/colab-badge.svg\" alt=\"Open In Colab\"/></a>"
      ]
    },
    {
      "cell_type": "markdown",
      "source": [
        "# Kaleido Install Troubleshooting\n",
        "\n",
        "Code outlined below worked for me in Google CoLab and Jupyter Notebook (through Anaconda)."
      ],
      "metadata": {
        "id": "ZlgoiSxoGsvm"
      }
    },
    {
      "cell_type": "markdown",
      "source": [
        "## Install Package"
      ],
      "metadata": {
        "id": "0SwYW5XRHTa6"
      }
    },
    {
      "cell_type": "code",
      "execution_count": null,
      "metadata": {
        "id": "9kfWjdE3GpXX"
      },
      "outputs": [],
      "source": [
        "# import sys\n",
        "import sys\n",
        "\n",
        "# install package using pip\n",
        "! {sys.executable} -m pip install kaleido"
      ]
    },
    {
      "cell_type": "markdown",
      "source": [
        "## Generate Plot"
      ],
      "metadata": {
        "id": "dTwSZUQVHUp0"
      }
    },
    {
      "cell_type": "code",
      "source": [
        "# import plotly\n",
        "import plotly.express as px\n",
        "\n",
        "# create figure \n",
        "fig = px.scatter(x=[0, 1, 2, 3, 4], y=[0, 1, 4, 9, 16])\n",
        "\n",
        "# show figure\n",
        "fig.show()"
      ],
      "metadata": {
        "id": "qBxs_mg0G3-R"
      },
      "execution_count": null,
      "outputs": []
    },
    {
      "cell_type": "markdown",
      "source": [
        "## Save Figure"
      ],
      "metadata": {
        "id": "pDB-4IGmHWqu"
      }
    },
    {
      "cell_type": "code",
      "source": [
        "# save figure as image\n",
        "fig.write_image(\"test-image.jpg\", engine=\"kaleido\")"
      ],
      "metadata": {
        "id": "ZuJXbgB3HGof"
      },
      "execution_count": null,
      "outputs": []
    },
    {
      "cell_type": "markdown",
      "source": [
        "## Putting It All Together"
      ],
      "metadata": {
        "id": "QeeXZsPNIVMs"
      }
    },
    {
      "cell_type": "code",
      "source": [
        "# install package\n",
        "import sys\n",
        "! {sys.executable} -m pip install kaleido\n",
        "\n",
        "# generate plot\n",
        "import plotly.express as px\n",
        "fig = px.scatter(x=[0, 1, 2, 3, 4], y=[0, 1, 4, 9, 16])\n",
        "fig.show()\n",
        "\n",
        "# save figure as image\n",
        "fig.write_image(\"test-image.jpg\", engine=\"kaleido\")\n",
        "\n",
        "# save figure as html\n",
        "fig.write_html(\"test-output.html\")"
      ],
      "metadata": {
        "id": "pviAyoHBIW__"
      },
      "execution_count": null,
      "outputs": []
    },
    {
      "cell_type": "markdown",
      "source": [
        "## Additional Troubleshooting\n",
        "\n",
        "If installing at the terminal (Jupyter Notebooks/Jupyter Lab):\n",
        "- Save your notebook and restart your kernel (`Kernel` -> `Restart`)\n",
        "- Rerun the relevant code cells to import plotly, generate a plot, and save as a figure"
      ],
      "metadata": {
        "id": "h7Jd6latHZqs"
      }
    }
  ]
}