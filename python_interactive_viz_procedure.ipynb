{
  "cells": [
    {
      "cell_type": "markdown",
      "metadata": {
        "id": "view-in-github",
        "colab_type": "text"
      },
      "source": [
        "<a href=\"https://colab.research.google.com/github/kwaldenphd/interactive-visualization-python/blob/main/python_interactive_viz_procedure.ipynb\" target=\"_parent\"><img src=\"https://colab.research.google.com/assets/colab-badge.svg\" alt=\"Open In Colab\"/></a>"
      ]
    },
    {
      "cell_type": "markdown",
      "source": [
        "# Interactive Visualization in Python\n",
        "\n",
        "<a href=\"http://creativecommons.org/licenses/by-nc/4.0/\" rel=\"license\"><img style=\"border-width: 0;\" src=\"https://i.creativecommons.org/l/by-nc/4.0/88x31.png\" alt=\"Creative Commons License\" /></a>This tutorial was written by Katherine Walden and is licensed under a <a href=\"http://creativecommons.org/licenses/by-nc/4.0/\" rel=\"license\">Creative Commons Attribution-NonCommercial 4.0 International License</a>."
      ],
      "metadata": {
        "id": "Hy0noyeFKiw-"
      }
    },
    {
      "cell_type": "markdown",
      "source": [
        "## Lab Goals\n",
        "\n",
        "This lab provides an overview of interactive data visualization in Python using `plotly`. It provides an overview and comparison of the `bokeh` and `plotly` packages. It provides an overview of `plotly` functionality, focusing on `plotly.express` functions for a variety of plot types, including 2D cartesian coordinate system plots and mapping using geospatial data. It ends with an overview of export options for `plotly` figures.\n",
        "\n",
        "By the end of this lab, students will be able to:\n",
        "- Understand the basic components of interactive Python visualization packages `bokeh` and `pandas`\n",
        "- Understand the basic syntax used to generate a `plotly` figure for a variety of plot types, using `plotly.express` functions\n",
        "- Understand the syntax and options available for customizing a `plotly` figure\n",
        "- Understand the export options for a `plotly` figure\n",
        "- Be able to use `plotly.express` functions to generate their own figures, with a basic level of customization\n",
        "- Understand how to navigate and interact with `plotly` documentation for tutorials and troubleshooting\n",
        "\n",
        "<table>\n",
        " <tr><td>\n",
        "<img src=\"https://elearn.southampton.ac.uk/wp-content/blogs.dir/sites/64/2021/04/PanPan.png\" alt=\"Panopto logo\" width=\"50\"/></td>\n",
        "<td><a href=\"https://notredame.hosted.panopto.com/Panopto/Pages/Viewer.aspx?pid=95dd1702-5640-4af4-811f-ae3e017f8091\">Lecture/live coding playlist</a></td>\n",
        "  </tr>\n",
        "  </table>"
      ],
      "metadata": {
        "id": "eT3RiQ3aKj9F"
      }
    },
    {
      "cell_type": "markdown",
      "source": [
        "## Acknowledgements\n",
        "\n",
        "The author consulted the following resources when writing  this tutorial:\n",
        "- [`plotly` documentation and tutorials](https://plotly.com/python/)"
      ],
      "metadata": {
        "id": "ThNjOE1VKkyJ"
      }
    },
    {
      "cell_type": "markdown",
      "source": [
        "# Lecture & Live Coding\n",
        "\n",
        "Throughout this lab, you will see a Panopto icon at the start of select sections.\n",
        "\n",
        "This icon indicates there is lecture/live coding asynchronous content that accompanies this section of the lab. \n",
        "\n",
        "You can click the link in the figure caption to access these materials (ND users only).\n",
        "\n",
        "Example:\n",
        "\n",
        "<table>\n",
        " <tr><td>\n",
        "<img src=\"https://elearn.southampton.ac.uk/wp-content/blogs.dir/sites/64/2021/04/PanPan.png\" alt=\"Panopto logo\" width=\"50\"/></td>\n",
        "<td><a href=\"https://notredame.hosted.panopto.com/Panopto/Pages/Viewer.aspx?pid=95dd1702-5640-4af4-811f-ae3e017f8091\">Lecture/live coding playlist</a></td>\n",
        "  </tr>\n",
        "  </table>\n",
        "\n",
        "<table>\n",
        " <tr><td>\n",
        "<img src=\"https://elearn.southampton.ac.uk/wp-content/blogs.dir/sites/64/2021/04/PanPan.png\" alt=\"Panopto logo\" width=\"50\"/></td>\n",
        "<td><a href=\"https://notredame.hosted.panopto.com/Panopto/Pages/Viewer.aspx?id=853b474f-bf54-432f-8982-ae3d0036773e\">Overview</a></td>\n",
        "  </tr>\n",
        "  </table>"
      ],
      "metadata": {
        "id": "oyBpOL_3g6ea"
      }
    },
    {
      "cell_type": "markdown",
      "source": [
        "# Lab Notebook Template\n",
        "\n",
        "[Link to access the lab notebook template (Jupyter Notebook)](https://drive.google.com/file/d/1J4UZ0HBBSQYzTjbzAelzfwgSZ-YIdKeN/view?usp=sharing)"
      ],
      "metadata": {
        "id": "bC9LMXbvKmDF"
      }
    },
    {
      "cell_type": "markdown",
      "source": [
        "# Setup and Environment\n",
        "\n",
        "<table>\n",
        " <tr><td>\n",
        "<img src=\"https://elearn.southampton.ac.uk/wp-content/blogs.dir/sites/64/2021/04/PanPan.png\" alt=\"Panopto logo\" width=\"50\"/></td>\n",
        "<td><a href=\"https://notredame.hosted.panopto.com/Panopto/Pages/Viewer.aspx?id=853b474f-bf54-432f-8982-ae3d0036773e\">Overview</a></td>\n",
        "  </tr>\n",
        "  </table>"
      ],
      "metadata": {
        "id": "TbQ0jaiiSFq5"
      }
    },
    {
      "cell_type": "markdown",
      "source": [
        "## Plotly\n",
        "\n",
        "This lab explores two packages used for interactive visualization in Python: `bokeh` and `plotly`.\n",
        "\n",
        "To install `bokeh`:\n",
        "- using `pip`: `pip install bokeh`\n",
        "- using `conda`: `conda install -c bokeh`\n",
        "\n",
        "\n",
        "To install `plotly`:\n",
        "- using `pip`: `pip install plotly`\n",
        "- using `conda`: `conda install -c plotly`"
      ],
      "metadata": {
        "id": "1N2kXhdFSG9D"
      }
    },
    {
      "cell_type": "markdown",
      "source": [
        "## GeoPandas\n",
        "\n",
        "Later in this lab, we'll be using a package called `GeoPandas` for plotting spatial data.\n",
        "\n",
        "Installing and configuring `Geopandas` requires creating a new Python environment.\n",
        "\n",
        "A few resources that can get folks started:\n",
        " \n",
        "**Installing and Configuring `geopandas`**:\n",
        "- Anaconda\n",
        "  * Tanish Gupta, \"[Fastest Way to Install Geopandas in Jupyter Notebooks](https://medium.com/analytics-vidhya/fastest-way-to-install-geopandas-in-jupyter-notebook-on-windows-8f734e11fa2b)\" *Analytics Vidhya* (6 December 2020)\n",
        "  * Anaconda, \"[conda-forge packages, geopandas](https://anaconda.org/conda-forge/geopandas)\" *Anaconda documentation*\n",
        "  * GeoPandas, \"[Installation](https://geopandas.org/getting_started/install.html)\" *GeoPandas documentation*\n",
        "- Google CoLab\n",
        "  * Abdishakur Hassan, Jupyter notebook on using `geopandas` in Google CoLab, from \"[Geographic data science tutorials with Python](https://github.com/shakasom/GDS)\" *GitHub repository*\n",
        "    * [Google CoLab](https://colab.research.google.com/github/shakasom/GDS/blob/master/Part1%20-%20Introduction.ipynb)\n",
        "    * [GitHub](https://github.com/shakasom/GDS/blob/master/Part1%20-%20Introduction.ipynb)\n",
        "\n",
        "Additional `GeoPandas` resources:\n",
        "- Jonathan Soma, \"[Mapping with geopandas](https://jonathansoma.com/lede/foundations-2017/classes/geopandas/mapping-with-geopandas/)\" from 2017 \"[Foundations of Computing](https://jonathansoma.com/lede/foundations-2017/)\" course, Columbia Graduate School of Journalism\n",
        "- CoderzColumn, \"[Plotting Static Maps with geopandas](https://coderzcolumn.com/tutorials/data-science/plotting-static-maps-with-geopandas-working-with-geospatial-data)\" *CoderzColumn* (11 March 2020)\n",
        "- GeoPandas, \"[Plotting with Geoplot and GeoPandas](https://geopandas.org/gallery/plotting_with_geoplot.html)\" *GeoPandas documentation*"
      ],
      "metadata": {
        "id": "UvmjTahbSIuN"
      }
    },
    {
      "cell_type": "markdown",
      "source": [
        "## Mapbox Access Token\n",
        "\n",
        "Later in this lab, we'll be working with features of the Mapbox API that require an access token.\n",
        "\n",
        "Sign up for a free Mapbox account:\n",
        "- https://account.mapbox.com/auth/signup/\n",
        "\n",
        "Once you have signed up and logged in, click `Token` in the top level menu (between `Dashboard` and `Statistics`).\n",
        "- https://account.mapbox.com/access-tokens/\n",
        "\n",
        "Click the `Create a token` button to create a new access token:\n",
        "- https://account.mapbox.com/access-tokens/create\n",
        "\n",
        "Choose a descriptive name for your token (\"Elements of Computing Lab\" works fine). The default settings for which boxes are checked/unchecked are fine.\n",
        "\n",
        "Click the `Create token` button at the bottom of the page.\n",
        "\n",
        "Save this token value (string of numbers and letters) for later in the lab."
      ],
      "metadata": {
        "id": "p3V9VOBC-pT2"
      }
    },
    {
      "cell_type": "markdown",
      "source": [
        "## Geocoding Data\n",
        "\n",
        "Lab notebook question 2 asks you to generate map visualizations.\n",
        "\n",
        "There are a number of sample datasets used in the lab that have geospatial attributes.\n",
        "\n",
        "But if you're wanting to work with your own data and it does not have geospatial attributes (latitude and longitude), you'll need to add that information via a process called geocoding.\n",
        "\n",
        "Free online geocoding services:\n",
        "- [LocalFocus data journalism batch geocoder](https://geocode.localfocus.nl/)\n",
        "- [Texas A&M Geocoding Services](https://geoservices.tamu.edu/Services/Geocode/)\n",
        "  * *Requires creating a free account*\n",
        " \n",
        "There are also Python libraries that support geocoding.\n",
        "- [`GeoPy`](https://geopy.readthedocs.io/en/stable/)\n",
        "- [`Geocoder`](https://geocoder.readthedocs.io/providers/Mapbox.html) (requires a free Mapbox API key)\n",
        "- Abdishakur, [\"Geocode with Python\"](https://towardsdatascience.com/geocode-with-python-161ec1e62b89) *Towards Data Science* (15 September 2019)"
      ],
      "metadata": {
        "id": "SWDyTp1O-qp0"
      }
    },
    {
      "cell_type": "markdown",
      "source": [
        "# Overview\n",
        "\n",
        "<table>\n",
        " <tr><td>\n",
        "<img src=\"https://elearn.southampton.ac.uk/wp-content/blogs.dir/sites/64/2021/04/PanPan.png\" alt=\"Panopto logo\" width=\"50\"/></td>\n",
        "<td><a href=\"https://notredame.hosted.panopto.com/Panopto/Pages/Viewer.aspx?id=ec1f17b7-a517-4dc1-a65c-ae3d003b9730\">Bokeh and Plotly Background</a></td>\n",
        "  </tr>\n",
        "  </table>\n",
        "\n",
        "Up to this point, we have been generic static image plots in Python using a combination of `pandas`, `matplotlib`, and `seaborn`. But in many cases we may want to generate interactive plots that can exist on the web.\n",
        "\n",
        "We see this type of interactivity in data journalism projects:\n",
        "- *NewYorkTimes* [TheUpshot](https://www.nytimes.com/section/upshot)\n",
        "- [*FiveThirtyEight*](https://fivethirtyeight.com/)\n",
        "- [*The Guardian*](https://www.theguardian.com/data)\n",
        "- *The Atlantic*, [\"The Language of The State of the Union\"](https://www.theatlantic.com/politics/archive/2015/01/the-language-of-the-state-of-the-union/384575/) (18 January 2015)\n",
        "\n",
        "We also see this kind of interactivity in dashboard-style interfaces, like the [Johns Hopkins University COVID-19 Dashboard](https://coronavirus.jhu.edu/map.html).\n",
        "\n",
        "The two leading Python packages that can be used to generate interactive visualizations for the web are `bokeh` and `plotly`. We'll go over a brief overview for each, with some comparison considerations, before focusing on `plotly`.\n"
      ],
      "metadata": {
        "id": "dWLfm4Oo-s7T"
      }
    },
    {
      "cell_type": "markdown",
      "source": [
        "## `bokeh`\n",
        "\n",
        "\"Bokeh is an interactive visualization library for modern web browsers. It provides elegant, concise construction of versatile graphics, and affords high-performance interactivity over large or streaming datasets. Bokeh can help anyone who would like to quickly and easily make interactive plots, dashboards, and data applications\" ([bokeh documentation](https://docs.bokeh.org/en/latest/index.html))\n",
        "\n",
        "`bokeh` emerged in 2013, and uses a glyph and model based approach when building interactive visualizations. `bokeh` is built on `D3.js`, a JavaScript library for interactive visualization. Full customization in `bokeh` requires some knowledge of JavaScript.                                                                                                                                                 \n",
        "\n",
        "Sample code and output for a `bokeh` plot.\n"
      ],
      "metadata": {
        "id": "l5KpF5UzKpW7"
      }
    },
    {
      "cell_type": "code",
      "source": [
        "# import bokeh\n",
        "from bokeh.plotting import figure, output_file, show\n",
        "\n",
        "# create figure \n",
        "p = figure(plot_width = 400, plot_height = 400)\n",
        "\n",
        "# add data to figure\n",
        "p.circle([1, 2, 3, 4, 5], [6, 7, 2, 4, 5], size=15, line_color=\"navy\", fill_color=\"orange\", fill_alpha=0.5)\n",
        "\n",
        "# show figure\n",
        "show(p)"
      ],
      "metadata": {
        "id": "ws4DuwRkKqbq"
      },
      "execution_count": null,
      "outputs": []
    },
    {
      "cell_type": "markdown",
      "source": [
        "For more on `bokeh`:\n",
        "- [`bokeh` documentation](https://docs.bokeh.org/en/latest/index.html#)\n",
        "- [`bokeh`, Installation](https://docs.bokeh.org/en/latest/docs/installation.html)\n",
        "- [`bokeh`, User Guide](https://docs.bokeh.org/en/latest/docs/user_guide.html)\n",
        "- [`bokeh`, Tutorial](htthttps://mybinder.org/v2/gh/bokeh/bokeh-notebooks/7b6da26945e284b19df07daecc6beabdb7adbe81)\n",
        "- [`bokeh`, Reference](https://docs.bokeh.org/en/latest/docs/reference.html#refguide)\n",
        "- Charlie Harper, \"Visualizing Data with Bokeh and Pandas,\" *The Programming Historian* 7 (2018), [https://doi.org/10.46430/phen0081](https://doi.org/10.46430/phen0081)\n",
        "\n",
        "## `plotly`\n",
        "\n",
        "\"Plotly is a technical computing company headquartered in Montreal, Quebec, that develops online data analytics and visualization tools. Plotly provides online graphing, analytics, and statistics tools for individuals and collaboration, as well as scientific graphing libraries for Python, R, MATLAB, Perl, Julia, Arduino, and REST\" ([Wikipedia](https://en.wikipedia.org/wiki/Plotly)).\n",
        "\n",
        "The `plotly` Python graphing library is supported by the Plotly company. Plotly relies on Python and the Django framework, using JavaScript, D3.js, HTML, and CSS for its front-end. Plotly files are stored on Amazon Web Services' Simple Storage Service (S3). The company was founded in 2012 and went on to be a featured startup at 2013 PyCon, sponsoring the SciPy conference in 2018. During Series A funding, Plotly raised $5.5 million, supported by MHS Capital, Siemens Venture Capital, Rho Ventures, Real Ventures, and Silicon Valley Bank.\n",
        "\n",
        "Plotly offers a range of products, some of which are free or open-source, and others that are subscription based.\n",
        "- ***Dash***: an open-source web application framework for Python, R, and Julia\n",
        "- ***Chart Studio***: a graphical user interface for analyzing and visualizing data; single-user version is free, enterprise deployments have a pricing model\n",
        "- ***API libraries***: open-source graphing libraries for Python, R, and Julia\n",
        "- ***Plotly Apps***: Google Chrome app\n",
        "- ***PLotly.js***: open-source JavaScript graphic and dashboard library\n",
        "- ***Plotly Enterprise***: pricing model for local Plotly installation and deployment\n",
        "\n",
        "In recent years, Plotly has moved into machine learning and artificial intelligence app support and artificial intelligence supply chain technology and continues to expand its enterprise pricing options. \n",
        "- For more on Plotly history: [Plotly, \"About Us\"](https://plotly.com/about-us/)\n",
        "- For more on Plotly products:\n",
        "  - [Dash Enterprise](https://plotly.com/dash/)\n",
        "  - [Consulting and Training](https://plotly.com/consulting-and-oem/)\n",
        "  - [Chart Studio](https://plotly.com/chart-studio/)\n",
        "\n",
        "Plotly's enterprise products are used by corporations that include NVIDIA, Tesla, Shell, Citi Bank, and Amgen. Plotly's Chart Studio product is used by a range of journalism outfits and companies, including S&P Global, The Washington Post, Wired, Tesla, and Medium."
      ],
      "metadata": {
        "id": "s9IM3D8E-yyV"
      }
    },
    {
      "cell_type": "markdown",
      "source": [
        "## `bokeh` vs. `plotly`\n",
        "\n",
        "At first glance, `bokeh` and `plotly` appear to have similar features and functionality. Both are based on JavaScript libraries, can work with data stored in `pandas`, and generate interactive web applications.\n",
        "\n",
        "The packages have very different syntax for how they build visualizations and applications, and they rely on different back-end infrastructure when deploying web applications. In addition to having the support and infrastructure of the Plotly company, `plotly` has a significantly larger user community comprised of individuals and corporations. `plotly` graphing libraries are also available in languages other than Python, most notably R and Julia, while `bokeh` is designed for Python, with the stand-alone BokehJS library available for JavaScript.\n",
        "\n",
        "This lab focuses on `plotly`, but the `bokeh` resources highlighted above are a useful place to start for working with the other package. For more in-depth `bokeh` and `plotly` comparisons:\n",
        "- Paul Iacomi, [\"Plotly vs. Bokeh: Interactive Python Visualisation Pros and Cons\"](https://pauliacomi.com/2020/06/07/plotly-v-bokeh.html) *personal blog* (7 June 2020)\n",
        "- stackshare, [\"Bokeh vs Plotly](https://stackshare.io/stackups/bokeh-vs-plotly)\n",
        "- Flavian, [\"Bokeh vs Dash- Which is the Best Framework for Python?](https://www.sicara.ai/blog/2018-01-30-bokeh-dash-best-dashboard-framework-python) *Sicara* (20 February 2020)\n",
        "- reddit, [\"Plotly vs Bokeh vs...\"](https://www.reddit.com/r/Python/comments/5nwk9r/plotly_vs_bokeh_vs/) (2017)\n",
        "- Scott Fitzpatrick, [\"Creating Python Dashboards: Dash Vs Bokeh\"](https://www.activestate.com/blog/dash-vs-bokeh/) *Active State* (19 September 2019)\n",
        "- Gabriela Moreira Mafra, [\"Choosing one of many Python visualization tools\"](https://blog.magrathealabs.com/choosing-one-of-many-python-visualization-tools-7eb36fa5855f) *Magrathea Lab Blog* (22 September 2018)\n",
        "- Antoine Hue, [\"Which library should I use for my Python dashboard?\"](https://towardsdatascience.com/which-library-should-i-use-for-my-dashboard-c432726a52bf) *Towards Data Science* (31 August 2020)"
      ],
      "metadata": {
        "id": "hPD3qxkD-13A"
      }
    },
    {
      "cell_type": "markdown",
      "source": [
        "# Getting Started with `plotly`\n",
        "To install `plotly`:\n",
        "- using `pip`: `pip install plotly`\n",
        "- using `conda`: `conda install -c plotly`\n",
        "- using Jupyter Notebook: `pip install \"notebook>=5.3\" \"ipywidgets>=7.2\"`\n",
        "- using `conda` in Jupyter Notebook: `conda install \"notebook>=5.3\" \"ipywidgets>=7.2\"`"
      ],
      "metadata": {
        "id": "Dci28eWVKxUc"
      }
    },
    {
      "cell_type": "markdown",
      "source": [
        "## The Mechanics of `plotly`\n",
        "\n",
        "<table>\n",
        " <tr><td>\n",
        "<img src=\"https://elearn.southampton.ac.uk/wp-content/blogs.dir/sites/64/2021/04/PanPan.png\" alt=\"Panopto logo\" width=\"50\"/></td>\n",
        "<td><a href=\"https://notredame.hosted.panopto.com/Panopto/Pages/Viewer.aspx?id=9853137f-8a7a-428b-842c-ae3d003ec609\">Plotly Mechanics</a></td>\n",
        "  </tr>\n",
        "  </table>\n",
        "\n",
        "Plotly.js, the JavaScript library `plotly` is based on understands figures as trees with named nodes called attributes. The root node of the tree has three top-level attributes.\n",
        "\n",
        "- The top-level ***`data`*** attribute consists of a list of dicts referred to as traces.\n",
        "  - Each trace has a plot type (scatter, bar, pie, etc.), and is drawn on a single subplot. Traces can have a single legend, and other attributes depending on trace type.\n",
        "\n",
        "- The top-level ***`layout`*** attribute is referred to as \"the layout\" and consists of a dict with attributes that control non-data parts of the figure. Parts of the figure governed by the `layout` attribute include:\n",
        "  - Dimensions and margins\n",
        "  - Templates, fonts, colors, hover labels\n",
        "  - Titles and legends \n",
        "  - Non-data marks such as annotations, shapes, and images\n",
        "  - Controls like buttons, toggles, menus, or sliders\n",
        "\n",
        "- The top-level ***`frames`*** attribute does not exist for all types of plots. `frames` consists of a list of dicts that define sequential frames in an animated plot. Each frame in the sequence has its own `data` attribute (and other parameters).\n",
        "\n",
        "When building a figure, you do not have to populate every attribute of every object. The JavaScript layer can compute default values for some unspecified attributes.\n",
        "\n",
        "Let's look at an example for a simple line plot, using `plotly`:"
      ],
      "metadata": {
        "id": "D-yy_UzkK2jo"
      }
    },
    {
      "cell_type": "code",
      "source": [
        "# import plotly\n",
        "import plotly.express as px\n",
        "\n",
        "# create figure\n",
        "fig = px.line(x=[\"a\",\"b\",\"c\"], y=[1,3,2], title=\"sample figure\")\n",
        "\n",
        "# print figure\n",
        "print(fig)\n",
        "\n",
        "# show figure\n",
        "fig.show()"
      ],
      "metadata": {
        "id": "3kkJcDUNK5gt"
      },
      "execution_count": null,
      "outputs": []
    },
    {
      "cell_type": "markdown",
      "source": [
        "The JSON object generated as part of `plotly`'s back-end process:\n",
        "\n",
        "```\n",
        "Figure({\n",
        "    'data': [{'hovertemplate': 'x=%{x}<br>y=%{y}<extra></extra>',\n",
        "              'legendgroup': '',\n",
        "              'line': {'color': '#636efa', 'dash': 'solid'},\n",
        "              'mode': 'lines',\n",
        "              'name': '',\n",
        "              'orientation': 'v',\n",
        "              'showlegend': False,\n",
        "              'type': 'scatter',\n",
        "              'x': array(['a', 'b', 'c'], dtype=object),\n",
        "              'xaxis': 'x',\n",
        "              'y': array([1, 3, 2]),\n",
        "              'yaxis': 'y'}],\n",
        "    'layout': {'legend': {'tracegroupgap': 0},\n",
        "               'template': '...',\n",
        "               'title': {'text': 'sample figure'},\n",
        "               'xaxis': {'anchor': 'y', 'domain': [0.0, 1.0], 'title': {'text': 'x'}},\n",
        "               'yaxis': {'anchor': 'x', 'domain': [0.0, 1.0], 'title': {'text': 'y'}}}\n",
        "})\n",
        "```\n",
        "\n",
        "We can use `fig.to_dict()` and `fig.to_json()` to represent the back-end of a `plotly` figure as a dictionary or JSON object, respectively.\n",
        "\n",
        "A few notes on this figure structure:\n",
        "- 2D Cartesian coordinate system subplots are the most commonly-used type of subplot. In `plotly`, traces compatible with these subplots support `xaxis` and `yaxis` attributes. Trace types compatible with 2D cartesian subplots include scatterplots, bar charts, histograms, and box plots.\n",
        "\n",
        "- Both `X` and `Y` axes support a `type` attribute. The `type` attribute can modify a trace to show continuous values, temporal values, or categorical values.\n",
        "\n",
        "Additional info:\n",
        "- Figure data structure: [`plotly`, \"The Figure Data Structure in Python\"](https://plotly.com/python/figure-structure/)\n",
        "- `plotly` fundamental syntax: [Plotly Python Open Source Graphing Library Fundamentals](https://plotly.com/python/plotly-fundamentals/)\n",
        "\n",
        "## `plotly.express`\n",
        "\n",
        "<table>\n",
        " <tr><td>\n",
        "<img src=\"https://elearn.southampton.ac.uk/wp-content/blogs.dir/sites/64/2021/04/PanPan.png\" alt=\"Panopto logo\" width=\"50\"/></td>\n",
        "<td><a href=\"https://notredame.hosted.panopto.com/Panopto/Pages/Viewer.aspx?id=7c15d7c1-c984-47fe-ab3c-ae3d004193bb\">Plotly Express (Scatter Plots, Line Plots, Bar Charts)</a></td>\n",
        "  </tr>\n",
        "  </table>\n",
        "\n",
        "The `plotly.express` module contains functions that can create entire figures at once. `plotly.express` functions are designed to be a user-friendly point of entry to the `plotly` package. A graph object is created as part of any `plotly.express` function, but the point of the `plotly.express` function is to significantly reduce the amount of code needed to create, customize, and render the graph object.\n",
        "\n"
      ],
      "metadata": {
        "id": "QpodoXJN-96q"
      }
    },
    {
      "cell_type": "markdown",
      "source": [
        "### Scatter Plots\n",
        "\n",
        "To create a scatterplot using `plotly.express`, we use the `px.scatter()` function, which takes values for the `X` and `Y` axis. Without any additional arguments, the default formatting and style options are applied."
      ],
      "metadata": {
        "id": "pd3N8VXf_AtB"
      }
    },
    {
      "cell_type": "code",
      "source": [
        "# create figure \n",
        "fig = px.scatter(x=[0, 1, 2, 3, 4], y=[0, 1, 4, 9, 16])\n",
        "\n",
        "# show figure\n",
        "fig.show()"
      ],
      "metadata": {
        "id": "VvDJUiTNLAQV"
      },
      "execution_count": null,
      "outputs": []
    },
    {
      "cell_type": "markdown",
      "source": [
        "\n",
        "Everything from tick marks to axis labels to grid lines to hover labels has been generated by the `plotly.express` defaults. To create a scatterplot from data stored in a `DataFrame`, the same general syntax specifying `X` and `Y` values still applies.\n",
        "\n",
        "An example using data about flowers."
      ],
      "metadata": {
        "id": "YGXcN_SR_C-q"
      }
    },
    {
      "cell_type": "code",
      "source": [
        "# load sample data already stored as a dataframe\n",
        "df = px.data.iris()\n",
        "\n",
        "# create figure\n",
        "fig = px.scatter(df, x=\"sepal_width\", y=\"sepal_length\")\n",
        "\n",
        "# show figure\n",
        "fig.show()"
      ],
      "metadata": {
        "id": "xyGNvkraLCPX"
      },
      "execution_count": null,
      "outputs": []
    },
    {
      "cell_type": "markdown",
      "source": [
        "\n",
        "In the `dataframe` example, we passed the entire data frame to `px.scatter()`, and specify columns to use for the `X` and `Y` axis. In the resulting figure, we can see how `plotly` assigns the column names as axis labels.\n",
        "\n",
        "We can modify point color and size to reflect underlying values in the data frame (using `color` and `size`). We can also modify the information displayed in the hover label (using `hover_data`)."
      ],
      "metadata": {
        "id": "2b64Y02W_E27"
      }
    },
    {
      "cell_type": "code",
      "source": [
        "# load sample data already stored as a dataframe\n",
        "df = px.data.iris()\n",
        "\n",
        "# create figure\n",
        "fig = px.scatter(df, x=\"sepal_width\", y=\"sepal_length\", color=\"species\", size=\"petal_length\", hover_data=[\"petal_width\"])\n",
        "\n",
        "# show figure\n",
        "fig.show()"
      ],
      "metadata": {
        "id": "p2PaALRALEnw"
      },
      "execution_count": null,
      "outputs": []
    },
    {
      "cell_type": "markdown",
      "source": [
        "In this modified example, `color` specifies what field to use to color points, `size` specifies what field to use to size points, and `hover_data` adds fields not already incorporated in the figure to the hover label, which now includes 5 different fields.\n",
        "\n",
        "For more on scatter plots in `plotly`:\n",
        "- [`plotly`, Scatter Plots in Python](https://plotly.com/python/line-and-scatter/)\n",
        "- [`plotly.express.scatter`](https://plotly.com/python-api-reference/generated/plotly.express.scatter)\n",
        "- [`plotly`, Python Figure Reference: `scatter` Traces](https://plotly.com/python/reference/scatter/)\n",
        "- [`plotly`, Python Figure Reference: `scattergl` Traces](https://plotly.com/python/reference/scattergl/)\n",
        "\n",
        "### Line Plots\n",
        "\n",
        "We can create a simple line plot using `px.line()`. This example uses example data on life expectancy."
      ],
      "metadata": {
        "id": "Rg2nX1kRATth"
      }
    },
    {
      "cell_type": "code",
      "source": [
        "# load dataframe subset \n",
        "df = px.data.gapminder().query(\"country=='Canada'\")\n",
        "\n",
        "# create figure\n",
        "fig = px.line(df, x=\"year\", y=\"lifeExp\", title='Life expectancy in Canada')\n",
        "\n",
        "# show figure\n",
        "fig.show()"
      ],
      "metadata": {
        "id": "yiBwoHJVLHC1"
      },
      "execution_count": null,
      "outputs": []
    },
    {
      "cell_type": "markdown",
      "source": [
        "In this example, we pass a subset of the `gapminder` dataframe to the `px.line()` function. We specify which fields to use for the `X` and `Y` axis values, and we give the figure a title.\n",
        "\n",
        "Let's say we wanted to create a line plot with data for two countries. We could filter the data frame accordingly and use the `color` parameter."
      ],
      "metadata": {
        "id": "lqmXkwhvAVGe"
      }
    },
    {
      "cell_type": "code",
      "source": [
        "# load dataframe subset \n",
        "df = px.data.gapminder().query(\"continent=='Oceania'\")\n",
        "\n",
        "# create figure\n",
        "fig = px.line(df, x=\"year\", y=\"lifeExp\", color='country', title='Life Expectancy by Country')\n",
        "\n",
        "# show figure\n",
        "fig.show()"
      ],
      "metadata": {
        "id": "Ap1F5W0ZLJAb"
      },
      "execution_count": null,
      "outputs": []
    },
    {
      "cell_type": "markdown",
      "source": [
        "Let's say we want to modify the line plot to include a line for individual countries and color the lines by continent."
      ],
      "metadata": {
        "id": "Eh3hYXYJAWcg"
      }
    },
    {
      "cell_type": "code",
      "source": [
        "# load dataframe subset\n",
        "df = px.data.gapminder().query(\"continent != 'Asia'\")\n",
        "\n",
        "# create figure\n",
        "fig = px.line(df, x=\"year\", y=\"lifeExp\", color='continent', line_group='country', hover_name='country', title='Country Life Expectancy by Continent')\n",
        "\n",
        "# show figure\n",
        "fig.show()"
      ],
      "metadata": {
        "id": "mwXZvOXTLLAc"
      },
      "execution_count": null,
      "outputs": []
    },
    {
      "cell_type": "markdown",
      "source": [
        "In the modified example, we color the lines by continent and group the lines by country. We also use `line_group` to group rows in a column into lines and `hover_name` to set a title or name for the hover labels. The country name is now at the top of each hover label.\n",
        "\n",
        "For more on line plots in `plotly`:\n",
        "- [`plotly`, Line Charts in Python](https://plotly.com/python/line-charts/)\n",
        "- [`plotly.express.line`](https://plotly.com/python-api-reference/generated/plotly.express.line)\n",
        "- [`plotly`, Python Figure Reference: `scatter` Traces](https://plotly.com/python/reference/scatter/)\n",
        "\n",
        "### Bar Charts\n",
        "\n",
        "We can create a bar chart using `px.bar()`. In the default settings, each row of the dataframe is represented as a rectangular mark.\n",
        "\n",
        "An example using population data from the previous example's dataset.\n"
      ],
      "metadata": {
        "id": "j2KiYrNYAYq3"
      }
    },
    {
      "cell_type": "code",
      "source": [
        "# load subset of existing dataframe\n",
        "data_canada = px.data.gapminder().query(\"country == 'Canada'\")\n",
        "\n",
        "# create figure\n",
        "fig = px.bar(data_canada, x='year', y='pop')\n",
        "\n",
        "# show figure\n",
        "fig.show()"
      ],
      "metadata": {
        "id": "6pO2Sm-yLNae"
      },
      "execution_count": null,
      "outputs": []
    },
    {
      "cell_type": "markdown",
      "source": [
        "In this example, the `year` column is assigned as the `X` axis value, and the `pop` column is assigned as the `Y` axis value.\n",
        "\n",
        "We can also generate a stacked bar chart using `px.bar()`. Let's take a look at a stacked bar chart for sample data stored in two different formats. As we learned in the `pandas` lab, data can be stored in a long or wide form.\n",
        "- ***Long-form data*** has one row per observation and one column per variable. Also known as tidy data.\n",
        "- ***Wide-form data*** has one row per value of the first variable, and one column per value of the second value.\n",
        "\n",
        "A quick comparison of long and wide data for the same Olympic medal dataset."
      ],
      "metadata": {
        "id": "KRkUqS4cAas2"
      }
    },
    {
      "cell_type": "code",
      "source": [
        "# create data table from long dataframe\n",
        "long_df = px.data.medals_long()\n",
        "\n",
        "# show long data table\n",
        "long_df"
      ],
      "metadata": {
        "id": "lQbtVKC2LQEZ"
      },
      "execution_count": null,
      "outputs": []
    },
    {
      "cell_type": "code",
      "source": [
        "# create data table from long dataframe\n",
        "wide_df = px.data.medals_wide()\n",
        "\n",
        "# show long data table\n",
        "wide_df"
      ],
      "metadata": {
        "id": "51VUMwOqLRVx"
      },
      "execution_count": null,
      "outputs": []
    },
    {
      "cell_type": "markdown",
      "source": [
        "`plotly.express` and `px.bar()` can generate the same plot from either data form.\n",
        "\n",
        "#### Stacked Bar Charts\n",
        "\n",
        "To create a stacked bar chart using the long data form:"
      ],
      "metadata": {
        "id": "EJzCmCrMAeSI"
      }
    },
    {
      "cell_type": "code",
      "source": [
        "# load dataframe\n",
        "long_df = px.data.medals_long()\n",
        "\n",
        "# create figure\n",
        "fig = px.bar(long_df, x=\"nation\", y=\"count\", color=\"medal\", title=\"Long-Form Input\")\n",
        "\n",
        "# show figure\n",
        "fig.show()"
      ],
      "metadata": {
        "id": "J2AkUbolLT6E"
      },
      "execution_count": null,
      "outputs": []
    },
    {
      "cell_type": "markdown",
      "source": [
        "To create a stacked bar chart using the wide data form:"
      ],
      "metadata": {
        "id": "fX_0P1f1Af59"
      }
    },
    {
      "cell_type": "code",
      "source": [
        "# load dataframe\n",
        "wide_df = px.data.medals_wide()\n",
        "\n",
        "# create figure\n",
        "fig = px.bar(wide_df, x=\"nation\", y=[\"gold\", \"silver\", \"bronze\"], title=\"Wide-Form Input\")\n",
        "\n",
        "# show figure\n",
        "fig.show()"
      ],
      "metadata": {
        "id": "GR5gkeoGLWax"
      },
      "execution_count": null,
      "outputs": []
    },
    {
      "cell_type": "markdown",
      "source": [
        "In the wide-format example, we pass a list of columns to the `Y` axis. For the wide-format example, we might want to relabel the fields when generating the hover labels."
      ],
      "metadata": {
        "id": "kzAJ555tAhRB"
      }
    },
    {
      "cell_type": "code",
      "source": [
        "# load dataframe\n",
        "wide_df = px.data.medals_wide()\n",
        "\n",
        "# create figure\n",
        "fig = px.bar(wide_df, x=\"nation\", y=[\"gold\", \"silver\", \"bronze\"], title=\"Wide-Form Input, relabelled\", labels={\"value\": \"count\", \"variable\": \"medal\"})\n",
        "\n",
        "# show figure\n",
        "fig.show()"
      ],
      "metadata": {
        "id": "WWxRKryuLY6T"
      },
      "execution_count": null,
      "outputs": []
    },
    {
      "cell_type": "markdown",
      "source": [
        "In the modified example, we passed a dictionary to `labels` to manually rename those fields in the hover label. If we wanted to change the styling for the wide-format example, we could specify a style template (similar to a style sheet), a colormap, and axis labels."
      ],
      "metadata": {
        "id": "uoJp_M7CAiwg"
      }
    },
    {
      "cell_type": "code",
      "source": [
        "# load dataframe\n",
        "wide_df = px.data.medals_wide()\n",
        "\n",
        "# create figure\n",
        "fig = px.bar(wide_df, x=\"nation\", y=[\"gold\", \"silver\", \"bronze\"], title=\"Wide-Form Input, styled\", labels={\"value\": \"Medal Count\", \"variable\": \"Medal\", \"nation\": \"Olympic Nation\"}, color_discrete_map={\"gold\": \"gold\", \"silver\": \"silver\", \"bronze\": \"#c96\"}, template=\"simple_white\")\n",
        "\n",
        "# update figure layout\n",
        "fig.update_layout(font_family=\"Rockwell\", showlegend=False)\n",
        "\n",
        "# show figure\n",
        "fig.show()"
      ],
      "metadata": {
        "id": "E-8g-qFILbNH"
      },
      "execution_count": null,
      "outputs": []
    },
    {
      "cell_type": "markdown",
      "source": [
        "In the styled modified example, we again modified the field labels by passing a dictionary to `labels`. A few other notes on this example:\n",
        "- We specified color by field value using `color_discrete_map`.\n",
        "- We set a style template using `template`.\n",
        "- We used `.update_layout()` to set a font family for the figure and axis titles, and also hid the legend.\n",
        "\n",
        "We can also set the bar mode using `.update_layout()` with the `barmode` attribute. Setting `barmode` to `stack` produces a stacked bar chart.\n",
        "\n",
        "### Grouped Bar Charts\n",
        "\n",
        "Setting `barmode` to `group` produces a grouped bar chart."
      ],
      "metadata": {
        "id": "hC1n9hNaAkiY"
      }
    },
    {
      "cell_type": "markdown",
      "source": [
        "### Horizontal Bar Charts\n",
        "\n",
        "We can set the `orientation` attribute to `h` to produce a horizontal bar chart.\n",
        "```Python\n",
        "# horizontal bar chart\n",
        "fig = px.bar(data, x=\"X field\", y=\"Y field\", orientation=\"h\")\n",
        "```\n",
        "\n",
        "Remember in a horizontal bar chart, the `X` and `Y` axis values are the inverse of a vertical bar chart.\n",
        "\n",
        "For more on bar charts in `plotly`:\n",
        "- [`plotly`, Bar Charts in Python](https://plotly.com/python/bar-charts/)\n",
        "- [`plotly`, Grouped Bar Chart](https://plotly.com/python/bar-charts/#grouped-bar-chart)\n",
        "- [`plotly`, Stacked Bar Chart](https://plotly.com/python/bar-charts/#stacked-bar-chart)\n",
        "- [`plotly`, Horizontal Bar Charts in Python](https://plotly.com/python/horizontal-bar-charts/)\n",
        "- [`plotly.express.bar`](https://plotly.com/python-api-reference/generated/plotly.express.bar)\n",
        "- [`plotly`, Python Figure Reference: `bar` Traces](https://plotly.com/python/reference/bar/)"
      ],
      "metadata": {
        "id": "u2-hoToZApxv"
      }
    },
    {
      "cell_type": "markdown",
      "source": [
        "### Pie Charts\n",
        "\n",
        "<table>\n",
        " <tr><td>\n",
        "<img src=\"https://elearn.southampton.ac.uk/wp-content/blogs.dir/sites/64/2021/04/PanPan.png\" alt=\"Panopto logo\" width=\"50\"/></td>\n",
        "<td><a href=\"https://notredame.hosted.panopto.com/Panopto/Pages/Viewer.aspx?id=2941d6b5-b9bd-49a7-bc76-ae3d0048934a\">Pie Charts</a></td>\n",
        "  </tr>\n",
        "  </table>\n",
        "\n",
        "We can create a pie chart using `px.pie()`. An example using our global population sample data:"
      ],
      "metadata": {
        "id": "mNsut6bdArPx"
      }
    },
    {
      "cell_type": "code",
      "source": [
        "# select dataframe subset\n",
        "df = px.data.gapminder().query(\"year == 2007\").query(\"continent == 'Europe'\")\n",
        "\n",
        "# filter dataframe to classify countries below a population size threshold as \"Other countries\"\n",
        "df.loc[df['pop'] < 2.e6, 'country'] = 'Other countries' \n",
        "\n",
        "# create figure\n",
        "fig = px.pie(df, values='pop', names='country', title='Population of European continent')\n",
        "\n",
        "# show figure\n",
        "fig.show()"
      ],
      "metadata": {
        "id": "jmm6qpZLLh8K"
      },
      "execution_count": null,
      "outputs": []
    },
    {
      "cell_type": "markdown",
      "source": [
        "Perhaps a useful example of the limited utility of pie charts. In this example, we pass the filtered dataframe to `px.pie()`, and specify the `pop` field as the slice value and `country` as the slice name.\n",
        "\n",
        "Another example using the restaurant bill and tip data."
      ],
      "metadata": {
        "id": "QUC0V2qAAs01"
      }
    },
    {
      "cell_type": "code",
      "source": [
        "# load dataframe\n",
        "df = px.data.tips()\n",
        "\n",
        "# create figure\n",
        "fig = px.pie(df, values='tip', names='day')\n",
        "\n",
        "# show figure\n",
        "fig.show()"
      ],
      "metadata": {
        "id": "hT4iGujbLiB-"
      },
      "execution_count": null,
      "outputs": []
    },
    {
      "cell_type": "markdown",
      "source": [
        "In this example, we pass the entire data frame to `px.pie()` and assign `tip` as the slice value and `day` as the slice name. Each day is a slice of the pie, and `plotly.express` and the `px.pie()` function have done the underlying calculations to show the aggregate tip data as a percent.\n",
        "\n",
        "#### Donut Charts\n",
        "\n",
        "A donut chart is a modified pie chart with an empty circle at the middle of the pie. We can create a donut chart by creating a graph object and specifying a value for the `hole` parameter. This example does not use `plotly.express` and instead creates the graph object manually."
      ],
      "metadata": {
        "id": "LAXMRWwEAusP"
      }
    },
    {
      "cell_type": "code",
      "source": [
        "# import plotly\n",
        "import plotly.graph_objects as go\n",
        "\n",
        "# set slice labels\n",
        "labels = ['Oxygen','Hydrogen','Carbon_Dioxide','Nitrogen']\n",
        "\n",
        "# set slice values\n",
        "values = [4500, 2500, 1053, 500]\n",
        "\n",
        "# create figure\n",
        "fig = go.Figure(data=[go.Pie(labels=labels, values=values, hole=.3)])\n",
        "\n",
        "# show figure\n",
        "fig.show()"
      ],
      "metadata": {
        "id": "UX_4hpsvLnR6"
      },
      "execution_count": null,
      "outputs": []
    },
    {
      "cell_type": "markdown",
      "source": [
        "There's a lot to get into in terms of the differences between `plotly.express` function syntax and `plotly.graph_object` syntax. For our purposes, we can focus on how values, labels, and a hole parameter are passed to `go.Figure()` and `go.Pie()` to create the plot.\n",
        "\n",
        "#### Sunburst Charts\n",
        "\n",
        "Multilevel pie charts are known as sunburst charts. We can create a sunburst chart using the `plotly.express` `px.sunburst()` function. Let's say we have a family tree that we want to represent using a sunburst chart. With `px.sunburst()`, each row of the `DataFrame` is a sector of the sunburst. Each sector in the sunburst chart is analogous to a slice of the pie in a pie chart."
      ],
      "metadata": {
        "id": "zJ5UXG56Awoi"
      }
    },
    {
      "cell_type": "code",
      "source": [
        "# create dictionary with data\n",
        "data = dict(\n",
        "    character=[\"Eve\", \"Cain\", \"Seth\", \"Enos\", \"Noam\", \"Abel\", \"Awan\", \"Enoch\", \"Azura\"],\n",
        "    parent=[\"\", \"Eve\", \"Eve\", \"Seth\", \"Seth\", \"Eve\", \"Eve\", \"Awan\", \"Eve\" ],\n",
        "    value=[10, 14, 12, 10, 2, 6, 6, 4, 4])\n",
        "\n",
        "# create figure\n",
        "fig =px.sunburst(\n",
        "    data,\n",
        "    names='character',\n",
        "    parents='parent',\n",
        "    values='value',\n",
        ")\n",
        "\n",
        "# show figure\n",
        "fig.show()"
      ],
      "metadata": {
        "id": "6VL75N6HLqdn"
      },
      "execution_count": null,
      "outputs": []
    },
    {
      "cell_type": "markdown",
      "source": [
        "For more on pie charts in `plotly`:\n",
        "- [`plotly`, Pie Charts in Python](https://plotly.com/python/pie-charts/)\n",
        "- [`plotly.express.pie`](https://plotly.com/python-api-reference/generated/plotly.express.pie)\n",
        "- [`plotly`, Python Figure Reference: `pie` Traces](https://plotly.com/python/reference/pie/)\n",
        "\n",
        "For more on sunburst charts in `plotly`:\n",
        "- [`plotly`, Sunburst Charts in Python](https://plotly.com/python/sunburst-charts/)\n",
        "- [`plotly.express.sunburst`](https://plotly.com/python-api-reference/generated/plotly.express.sunburst)\n",
        "- [`plotly`, Python Figure Reference: `sunburst` Traces](https://plotly.com/python/reference/sunburst/)\n",
        "\n",
        "### Bubble Charts\n",
        "\n",
        "<table>\n",
        " <tr><td>\n",
        "<img src=\"https://elearn.southampton.ac.uk/wp-content/blogs.dir/sites/64/2021/04/PanPan.png\" alt=\"Panopto logo\" width=\"50\"/></td>\n",
        "<td><a href=\"https://notredame.hosted.panopto.com/Panopto/Pages/Viewer.aspx?id=ec4f1815-8c61-48dd-aaf3-ae3d004ad056\">Bubble Charts</a></td>\n",
        "  </tr>\n",
        "  </table>\n",
        "\n",
        "A bubble chart is a scatter plot in which the marker size is tied to a third dimension of the data. We can create bubble charts in `plotly.express` using the `px.scatter()` function and assigning the `size` parameter to a data field. An example using a single year of the global population data, where per capita GDP is the `X` axis value, and average life expectancy is the `Y` axis value. Marker marker size is determined by population.\n"
      ],
      "metadata": {
        "id": "CIOOuok0AzER"
      }
    },
    {
      "cell_type": "code",
      "source": [
        "# create dataframe\n",
        "df = px.data.gapminder()\n",
        "\n",
        "# create figure\n",
        "fig = px.scatter(df.query(\"year==2007\"), x=\"gdpPercap\", y=\"lifeExp\", size=\"pop\", color=\"continent\", hover_name=\"country\", log_x=True, size_max=60)\n",
        "\n",
        "# show figure\n",
        "fig.show()"
      ],
      "metadata": {
        "id": "pdljD-HKLtgy"
      },
      "execution_count": null,
      "outputs": []
    },
    {
      "cell_type": "markdown",
      "source": [
        "In this example, we use `px.scatter()` to create a scatter plot. By setting `size` to `pop`, the marker size is determined by the numeric value in the `pop` field. We also set a maximum marker size using `size_max`. By setting `color` to `continent`, the marker color is determined by the `continent` field string. We set a name or title for the hover labels using `hover_name`. Setting `log_x` to `True` (the default for this attribute is `False`) means the `X` axis will be log-scaled in cartesian coordinates.\n",
        "\n",
        "For more on bubble charts in `plotly`:\n",
        "- [`plotly`, Bubble Charts in Python](https://plotly.com/python/bubble-charts/)\n",
        "- [`plotly.express.scatter`](https://plotly.com/python-api-reference/generated/plotly.express.scatter)\n",
        "- [`plotly`, Python Figure Reference: `scatter` Traces](https://plotly.com/python/reference/scatter/)\n",
        "\n",
        "### Tables\n",
        "\n",
        "<table>\n",
        " <tr><td>\n",
        "<img src=\"https://elearn.southampton.ac.uk/wp-content/blogs.dir/sites/64/2021/04/PanPan.png\" alt=\"Panopto logo\" width=\"50\"/></td>\n",
        "<td><a href=\"https://notredame.hosted.panopto.com/Panopto/Pages/Viewer.aspx?id=ec4f1815-8c61-48dd-aaf3-ae3d004ad056\">Tables</a></td>\n",
        "  </tr>\n",
        "  </table>\n",
        "\n",
        "`plotly.express` does not include a table function, but we can create a graph object table using `go.Figure()` in combination with `go.Table()`. We can create two columns of data with sample scores for `A` and `B` letter grades.\n"
      ],
      "metadata": {
        "id": "MJUqv-DGA1ab"
      }
    },
    {
      "cell_type": "code",
      "source": [
        "# import plotly\n",
        "import plotly.graph_objects as go\n",
        "\n",
        "# create figure with data\n",
        "fig = go.Figure(data=[go.Table(header=dict(values=['A Scores', 'B Scores']),\n",
        "                 cells=dict(values=[[100, 90, 80, 90], [95, 85, 75, 95]]))\n",
        "                     ])\n",
        "# show figure\n",
        "fig.show()"
      ],
      "metadata": {
        "id": "h361PgEjLxGG"
      },
      "execution_count": null,
      "outputs": []
    },
    {
      "cell_type": "markdown",
      "source": [
        "There's a lot to get into in terms of the differences between `plotly.express` function syntax and `plotly.graph_object` syntax. For our purposes, we can focus on how the table header takes a dictionary with column labels, and the cells also take a dictionary with two lists of values. These dictionaries are passed to `go.Figure()` and `go.Table()` to create the plot. We could also generate a table from data stored in a `pandas` `DataFrame`.\n",
        "\n",
        "This example also includes style parameters for the table."
      ],
      "metadata": {
        "id": "upQVvniiA3EP"
      }
    },
    {
      "cell_type": "code",
      "source": [
        "# import plotly\n",
        "import plotly.graph_objects as go\n",
        "\n",
        "# import pandas\n",
        "import pandas as pd\n",
        "\n",
        "# create dataframe\n",
        "df = pd.read_csv('https://raw.githubusercontent.com/kwaldenphd/interactive-visualization-python/main/data/2014_usa_states.csv')\n",
        "\n",
        "# create figure\n",
        "fig = go.Figure(data=[go.Table(\n",
        "    header=dict(values=list(df.columns),\n",
        "                fill_color='paleturquoise',\n",
        "                align='left'),\n",
        "    cells=dict(values=[df.Rank, df.State, df.Postal, df.Population],\n",
        "               fill_color='lavender',\n",
        "               align='left'))\n",
        "])\n",
        "\n",
        "# show figure\n",
        "fig.show()"
      ],
      "metadata": {
        "id": "qG7p4B7KNEx9"
      },
      "execution_count": null,
      "outputs": []
    },
    {
      "cell_type": "markdown",
      "source": [
        "This example includes style attributes like `fill_color` and `align` for both `header` and `cells`. For `header`, this example takes a dictionary with the `DataFrame` column labels as a list, and the `DataFrame` column values as values for the `cells`.\n",
        "\n",
        "For more on tables in `plotly`:\n",
        "- [`plotly`, Tables in Python](https://plotly.com/python/table/)\n",
        "- [`plotly`, Python Figure Reference: `table` Traces](https://plotly.com/python/reference/table/)\n",
        "\n",
        "## Plotting Categorical Data\n",
        "\n",
        "<table>\n",
        " <tr><td>\n",
        "<img src=\"https://elearn.southampton.ac.uk/wp-content/blogs.dir/sites/64/2021/04/PanPan.png\" alt=\"Panopto logo\" width=\"50\"/></td>\n",
        "<td><a href=\"https://notredame.hosted.panopto.com/Panopto/Pages/Viewer.aspx?id=c71f43c7-d9b9-4cdb-a645-ae3d004c615c\">Categorical Data</a></td>\n",
        "  </tr>\n",
        "  </table>\n",
        "\n",
        "For our purposes, categorical data is defined as qualitative, nominal, or ordinal data that is discrete, or non-continuous. Categorical data contrasts with numerical data that is continuous. The axis type determines how the data is plotted in the resulting figure.\n",
        "\n",
        "Axis types recognized in `plotly`:\n",
        "- `linear`\n",
        "- `log`\n",
        "- `date`\n",
        "- `category`\n",
        "- `multicategory`\n",
        "\n",
        "The axis type is auto-detected by `plotly` based on the data linked to the specific axis.\n",
        "- If `plotly` does not recognize the data as `multicategory`, `date`, or `category` (it checks sequentially in that order), it defaults to `linear`.\n",
        "- When testing for `multicategory` data, `plotly` looks to see if there is a nested array.\n",
        "- When testing for `date` or `category`, `plotly` requires more than twice as many distinct date or category strings as distinct numbers in order to choose one of these axis types.\n",
        "\n",
        "We can imagine scenarios in which we are working with categorical data that would not be accurately auto-detected by `plotly`. We can instruct `plotly` to recognize an axis as having categorical data through the `xaxis_type` and `yaxis_type` attributes.\n",
        "\n",
        "An example of categorical data represented as a bar chart."
      ],
      "metadata": {
        "id": "bq8dDTgRA6LF"
      }
    },
    {
      "cell_type": "code",
      "source": [
        "# create figure\n",
        "fig = px.bar(x=[\"a\", \"b\", \"c\", \"d\"], y = [1,2,3,4])\n",
        "\n",
        "# update x axis type\n",
        "fig.update_xaxes(type='category')\n",
        "\n",
        "# show figure\n",
        "fig.show()"
      ],
      "metadata": {
        "id": "suFC8o8DNIK8"
      },
      "execution_count": null,
      "outputs": []
    },
    {
      "cell_type": "markdown",
      "source": [
        "In this example, the auto-detected `X` axis type would be `linear`. By using `.update_xaxes(type='category')`, we force the `X` axis to be categorical.\n",
        "\n",
        "We can also control the category order by passing a dictionary to the `category_orders` parameter. An example with side-by-side bar charts of categorical data for the restaurant and tip data."
      ],
      "metadata": {
        "id": "RtSUZYPwA8F2"
      }
    },
    {
      "cell_type": "code",
      "source": [
        "# load data\n",
        "df = px.data.tips()\n",
        "\n",
        "# create figure\n",
        "fig = px.bar(df, x=\"day\", y=\"total_bill\", color=\"smoker\", barmode=\"group\", facet_col=\"sex\",\n",
        "             category_orders={\"day\": [\"Thur\", \"Fri\", \"Sat\", \"Sun\"],\n",
        "                              \"smoker\": [\"Yes\", \"No\"],\n",
        "                              \"sex\": [\"Male\", \"Female\"]})\n",
        "# show figure\n",
        "fig.show()"
      ],
      "metadata": {
        "id": "rlF5ISwVNKq-"
      },
      "execution_count": null,
      "outputs": []
    },
    {
      "cell_type": "markdown",
      "source": [
        "In addition to setting `color`, `barmode`, and `facet_col` parameters, we pass a dictionary to `category_orders` to determine the order for each category in the plot.\n",
        "\n",
        "We can also automatically sort categories by name or total value by using `.update_xaxes()` or `.update_yaxes()` in combination with the `categoryorder` parameter.\n",
        "- Setting `categoryorder` to `category ascending` or `category descending` sorts categories alphabetically.\n",
        "- Setting `categoryorder` to `total ascending` or `total descending` sorts categories numerically by total value.\n",
        "\n",
        "For more on categorical data and `plotly`:\n",
        "- [`plotly`, Categorical Axes in Python](https://plotly.com/python/categorical-axes/)\n",
        "- [`plotly`, Axes in Python](https://plotly.com/python/axes/)\n",
        "- [`plotly`, Python Figure Reference: `layout.xaxis`](https://plotly.com/python/reference/layout/xaxis/)\n",
        "\n",
        "## Lab Notebook Question 1\n",
        "\n",
        "Q1: Build at least three different types of plots using plotly and data stored in a Pandas DataFrame. Include code + comments.\n",
        "- *I encourage folks to use this question to explore visualizations you might use for the final project.*\n",
        "\n",
        "Each plot should include the following elements:\n",
        "- Title\n",
        "- Axis labels\n",
        "- Legend\n",
        "- Scale or tickmarks\n",
        "- Hover label\n",
        "- Data source\n",
        " \n",
        "Plot types to choose from:\n",
        "- Line plots\n",
        "- Bar chart\n",
        "- Grouped bar chart\n",
        "- Horizontal bar chart\n",
        "- Stacked bar chart\n",
        "- Histogram\n",
        "- Box plot\n",
        "- Area plot\n",
        "- Scatter plot\n",
        "- Pie chart\n",
        "- Donut chart\n",
        "- Sunburst chart\n",
        "- Table\n"
      ],
      "metadata": {
        "id": "sglWYhDPA_r_"
      }
    },
    {
      "cell_type": "markdown",
      "source": [
        "### Maps\n",
        "\n",
        "<table>\n",
        " <tr><td>\n",
        "<img src=\"https://elearn.southampton.ac.uk/wp-content/blogs.dir/sites/64/2021/04/PanPan.png\" alt=\"Panopto logo\" width=\"50\"/></td>\n",
        "<td><a href=\"https://notredame.hosted.panopto.com/Panopto/Pages/Viewer.aspx?id=59ec6f25-e51d-4e2b-9d2d-ae3d004f02a8\">Mapping</a></td>\n",
        "  </tr>\n",
        "  </table>\n",
        "\n",
        "Up to this point, we have been working with data plotted on a 2D cartesian coordinate system, with `x` and `y` axes. For our purposes, it's most useful to think of maps in the same way--as data plotted on a coordinate system. Except for maps, that coordinate system is typically some type of latitude or longitude based projection, and the data to be plotted includes explicit location information (rather than a numerical or categorical field that can be mapped to an axis).\n",
        "\n",
        "A few resources related to geocoding:\n",
        "\n",
        "Free online geocoding services:\n",
        "- [LocalFocus data journalism batch geocoder](https://geocode.localfocus.nl/)\n",
        "- [Texas A&M Geocoding Services](https://geoservices.tamu.edu/Services/Geocode/)\n",
        "  * *Requires creating a free account*\n",
        " \n",
        "There are also Python libraries that support geocoding.\n",
        "- [`GeoPy`](https://geopy.readthedocs.io/en/stable/)\n",
        "- [`Geocoder`](https://geocoder.readthedocs.io/providers/Mapbox.html) (requires a free Mapbox API key)\n",
        "- Abdishakur, [\"Geocode with Python\"](https://towardsdatascience.com/geocode-with-python-161ec1e62b89) *Towards Data Science* (15 September 2019)\n",
        "\n",
        "`plotly` supports two different types of maps.\n",
        "- ***Mapbox maps*** are tile-based maps that are rendered using tiles that join together to form the map plot.\n",
        "- ***Geo maps*** are outline-based maps that are rendered using the `layout.geo` object  that contains map configuration information.\n"
      ],
      "metadata": {
        "id": "4wUySSwpBBxa"
      }
    },
    {
      "cell_type": "markdown",
      "source": [
        "### Geo Maps, or Outline-Based Maps\n"
      ],
      "metadata": {
        "id": "DIeHzRn4BCtQ"
      }
    },
    {
      "cell_type": "markdown",
      "source": [
        "#### Base Map Layer\n",
        "\n",
        "`plotly` Geo maps have a built-in base map layer composed of \"physical\" and \"cultural\" data from the [Natural Earth Dataset](https://www.naturalearthdata.com/downloads/). We can show or hide, as well as modify, various components of this base layer. For example, we can take a look at the built-in base map, showing only country sub-units."
      ],
      "metadata": {
        "id": "TcQsLEE3BFMc"
      }
    },
    {
      "cell_type": "code",
      "source": [
        "# import plotly\n",
        "import plotly.graph_objects as go\n",
        "\n",
        "# create figure\n",
        "fig = go.Figure(go.Scattergeo())\n",
        "\n",
        "# update figure to not show physical attributes and show country attributes\n",
        "fig.update_geos(\n",
        "    visible=False, resolution=50,\n",
        "    showcountries=True, countrycolor=\"RebeccaPurple\"\n",
        ")\n",
        "\n",
        "# update figure layout\n",
        "fig.update_layout(height=300, margin={\"r\":0,\"t\":0,\"l\":0,\"b\":0})\n",
        "\n",
        "# show figure\n",
        "fig.show()"
      ],
      "metadata": {
        "id": "G0_-sVevNU3C"
      },
      "execution_count": null,
      "outputs": []
    },
    {
      "cell_type": "markdown",
      "source": [
        "There are a few options for zooming or focusing the area represented in the base map. We can set the `layout.geo.fitbounds` attribute to `locations` to automatically center the visual base map range based on the data being plotted."
      ],
      "metadata": {
        "id": "NY7Lh9XiBGlR"
      }
    },
    {
      "cell_type": "code",
      "source": [
        "# create geographic line plot\n",
        "fig = px.line_geo(lat=[0,15,20,35], lon=[5,10,25,30])\n",
        "\n",
        "# update figure to center and zoom base map based on data parameters\n",
        "fig.update_geos(fitbounds=\"locations\")\n",
        "\n",
        "# udpate figure size and layout\n",
        "fig.update_layout(height=300, margin={\"r\":0,\"t\":0,\"l\":0,\"b\":0})\n",
        "\n",
        "# show figure\n",
        "fig.show()"
      ],
      "metadata": {
        "id": "zs3ySqkBNW6D"
      },
      "execution_count": null,
      "outputs": []
    },
    {
      "cell_type": "markdown",
      "source": [
        "We can also set the scope of a map using a named sub-set. Available named scopes include:\n",
        "- `world`\n",
        "- `usa`\n",
        "- `europe`\n",
        "- `asia`\n",
        "- `africa`\n",
        "- `north america`\n",
        "- `south america`\n",
        "  * *Sorry, penguins and polar bears.*\n",
        "\n",
        "#### Point Data\n",
        "\n",
        "Now that we have a base map layer that will serve as the coordinate system for our plot, we can plot data using this coordinate system. When we understand maps are just another type of plot that uses a different projection system, maps with markers are just another kind of scatterplot. We can use the `px.scatter_geo()` function to plot point data with geospatial dimensions.\n",
        "\n",
        "We can create a point map for the global population dataset."
      ],
      "metadata": {
        "id": "8NN2c6vUBJHG"
      }
    },
    {
      "cell_type": "code",
      "source": [
        "# load single year of data\n",
        "df = px.data.gapminder().query(\"year == 2007\")\n",
        "\n",
        "# create figure\n",
        "fig = px.scatter_geo(df, locations=\"iso_alpha\", size=\"pop\")\n",
        "\n",
        "# show figure\n",
        "fig.show()"
      ],
      "metadata": {
        "id": "tWoNOCgTNZMW"
      },
      "execution_count": null,
      "outputs": []
    },
    {
      "cell_type": "markdown",
      "source": [
        "A few notes on this example:\n",
        "- We pass the entire data frame `df` to the `px.scatter_geo()` function.\n",
        "- We use `locations` to note the column with location information.\n",
        "- The `size` parameter determines the size of each marker based on the `pop` field value.\n",
        "\n",
        "Let's say we wanted to use a different type of global projection, and color the points by continent."
      ],
      "metadata": {
        "id": "ARg7Ht9BBK2Z"
      }
    },
    {
      "cell_type": "code",
      "source": [
        "# load single year of data\n",
        "df = px.data.gapminder().query(\"year == 2007\")\n",
        "\n",
        "# create figure\n",
        "fig = px.scatter_geo(df, locations=\"iso_alpha\", size=\"pop\", color=\"continent\", hover_name=\"country\", projection=\"natural earth\")\n",
        "\n",
        "# show figure\n",
        "fig.show()"
      ],
      "metadata": {
        "id": "vD6s13muNbGH"
      },
      "execution_count": null,
      "outputs": []
    },
    {
      "cell_type": "markdown",
      "source": [
        "A few notes on this modified example:\n",
        "- We set `color` to assign a color to each unique value in `continent`.\n",
        "- We set the `hover_name` to `country`.\n",
        "- We set `projection` to `natural earth` to change the underlying base map layer.\n",
        "\n",
        "We can also create a map from geospatial data stored in a `pandas` `DataFrame` using `GeoPandas`.\n",
        "- [Link to more info on `GeoPandas` installation and configuration](#geopandas)\n",
        "\n",
        "An example using US airport traffic data."
      ],
      "metadata": {
        "id": "MlniR1tRBMtM"
      }
    },
    {
      "cell_type": "code",
      "source": [
        "# import plotly\n",
        "import plotly.graph_objects as go\n",
        "\n",
        "# import pandas\n",
        "import pandas as pd\n",
        "\n",
        "# load data\n",
        "df = pd.read_csv('https://raw.githubusercontent.com/kwaldenphd/interactive-visualization-python/main/data/2011_february_us_airport_traffic.csv')\n",
        "\n",
        "# set column names and data types\n",
        "df['text'] = df['airport'] + '' + df['city'] + ', ' + df['state'] + '' + 'Arrivals: ' + df['cnt'].astype(str)\n",
        "\n",
        "# create figure\n",
        "fig = go.Figure(data=go.Scattergeo(\n",
        "        lon = df['long'],\n",
        "        lat = df['lat'],\n",
        "        text = df['text'],\n",
        "        mode = 'markers',\n",
        "        marker_color = df['cnt'],\n",
        "        ))\n",
        "\n",
        "# update figure layout with title and scope\n",
        "fig.update_layout(\n",
        "        title = 'Most trafficked US airports<br>(Hover for airport names)',\n",
        "        geo_scope='usa',\n",
        "    )\n",
        "\n",
        "# show figure\n",
        "fig.show()"
      ],
      "metadata": {
        "id": "4r_upXQpNelp"
      },
      "execution_count": null,
      "outputs": []
    },
    {
      "cell_type": "markdown",
      "source": [
        "In this example, we use `plotly`'s `graph_object` syntax to create the figure and specify which columns in the `dataframe` include latitude and longitude information.\n",
        "\n",
        "#### Polygon Data\n",
        "\n",
        "We can easily imagine a scenario in which a map with point data (or a scatterplot on a map projection system) is not the most effective way to represent data. For example, when working with geospatial units that are not singular latitude and longitude points, representing an area using a polygon may yield a more insightful plot.\n",
        "\n",
        "When working with data at the county, state, country, etc. level, polygons may be preferable to points. We call these kinds of maps ***choropleth maps***. We can use the `px.choropleth()` function to create an outline-based choropleth map in `plotly`.\n",
        "\n",
        "Choropleth maps require two main types of input to generate a map:\n",
        "- ***Geometry information***: can be supplied using a GeoJSON file in which each feature (polygon) has an id field that can be used to connect attribute data;\n",
        "  * `plotly` includes built-in geometries for US states and world countries\n",
        "- ***Attribute data***, or a list of values indexed by feature identifiers (an id reflected in the geometry information)\n",
        "\n",
        "Let's take a quick look at the underlying JSON object for a sample GeoJSON file.\n",
        "\n"
      ],
      "metadata": {
        "id": "NDf940ItBPSi"
      }
    },
    {
      "cell_type": "code",
      "source": [
        "# import urlrequest\n",
        "from urllib.request import urlopen\n",
        "\n",
        "# import json package\n",
        "import json\n",
        "\n",
        "# load url data\n",
        "with urlopen('https://raw.githubusercontent.com/kwaldenphd/interactive-visualization-python/main/data/geojson-counties-fips.json') as response:\n",
        "    counties = json.load(response)\n",
        "\n",
        "# select first feature in dataset\n",
        "counties[\"features\"][0]"
      ],
      "metadata": {
        "id": "vUgmTcfDNh74"
      },
      "execution_count": null,
      "outputs": []
    },
    {
      "cell_type": "markdown",
      "source": [
        "We are now seeing the underlying JSON object for the first feature in the county GeoJSON data.\n",
        "```\n",
        "{'type': 'Feature',\n",
        " 'properties': {'GEO_ID': '0500000US01001',\n",
        "  'STATE': '01',\n",
        "  'COUNTY': '001',\n",
        "  'NAME': 'Autauga',\n",
        "  'LSAD': 'County',\n",
        "  'CENSUSAREA': 594.436},\n",
        " 'geometry': {'type': 'Polygon',\n",
        "  'coordinates': [[[-86.496774, 32.344437],\n",
        "    [-86.717897, 32.402814],\n",
        "    [-86.814912, 32.340803],\n",
        "    [-86.890581, 32.502974],\n",
        "    [-86.917595, 32.664169],\n",
        "    [-86.71339, 32.661732],\n",
        "    [-86.714219, 32.705694],\n",
        "    [-86.413116, 32.707386],\n",
        "    [-86.411172, 32.409937],\n",
        "    [-86.496774, 32.344437]]]},\n",
        " 'id': '01001'}\n",
        "```\n",
        "\n",
        "We have our geometric information loaded. Now onto the attribute data, or data values indexed by an id field. This example uses county-level unemployment data, indexed by [FIPS code](https://en.wikipedia.org/wiki/FIPS_county_code) as the unique id."
      ],
      "metadata": {
        "id": "GsBR7IrxBSp5"
      }
    },
    {
      "cell_type": "code",
      "source": [
        "# import pandas\n",
        "import pandas as pd\n",
        "\n",
        "# load dataframe\n",
        "df = pd.read_csv(\"https://raw.githubusercontent.com/kwaldenphd/interactive-visualization-python/main/data/fips-unemp-16.csv\",\n",
        "                   dtype={\"fips\": str})\n",
        "# show first five rows\n",
        "df.head()"
      ],
      "metadata": {
        "id": "PpZ5kLjKNlwQ"
      },
      "execution_count": null,
      "outputs": []
    },
    {
      "cell_type": "markdown",
      "source": [
        "Now we can work with the geometric information and the attribute data to generate a choropleth map. We do this using the `px.choropleth()` function."
      ],
      "metadata": {
        "id": "BQB_OH23BVJA"
      }
    },
    {
      "cell_type": "code",
      "source": [
        "# import urllib module\n",
        "from urllib.request import urlopen\n",
        "\n",
        "# import json module\n",
        "import json\n",
        "\n",
        "# load geometric data\n",
        "with urlopen('https://raw.githubusercontent.com/kwaldenphd/interactive-visualization-python/main/data/geojson-counties-fips.json') as response:\n",
        "    counties = json.load(response)\n",
        "\n",
        "# import pandas\n",
        "import pandas as pd\n",
        "\n",
        "# load dataframe\n",
        "df = pd.read_csv(\"https://raw.githubusercontent.com/kwaldenphd/interactive-visualization-python/main/data/fips-unemp-16.csv\",\n",
        "                   dtype={\"fips\": str})\n",
        "\n",
        "# create figure\n",
        "fig = px.choropleth(df, geojson=counties, locations='fips', color='unemp',\n",
        "                           color_continuous_scale=\"Viridis\",\n",
        "                           range_color=(0, 12),\n",
        "                           scope=\"usa\",\n",
        "                           labels={'unemp':'unemployment rate'}\n",
        "                          )\n",
        "\n",
        "# update figure margins\n",
        "fig.update_layout(margin={\"r\":0,\"t\":0,\"l\":0,\"b\":0})\n",
        "\n",
        "# show figure\n",
        "fig.show()"
      ],
      "metadata": {
        "id": "AC9VErKaNoTI"
      },
      "execution_count": null,
      "outputs": []
    },
    {
      "cell_type": "markdown",
      "source": [
        "Behold, a choropleth map showing unemployment rates for US counties. A few notes on this example:\n",
        "- We set the `counties` GeoJSON as the geometric data\n",
        "- We specify the common field to use to connect the two datasets, `fips`\n",
        "- We base polygon color on the `unemp` field using `color`\n",
        "- We set the number of colors or color range using `range_color`\n",
        "- We select a continuous colormap using `color_continuous_scale`\n",
        "- And we update the `unemp` field name using `labels`\n",
        "\n",
        "For more on outline-based maps in `plotly`:\n",
        "- [`plotly`, Map Configuration and Styling in Python](https://plotly.com/python/map-configuration/)\n",
        "- [`plotly`, Scatter Plots on Maps in Python](https://plotly.com/python/scatter-plots-on-maps/)\n",
        "- [`plotly`, Choropleth Maps in Python](https://plotly.com/python/choropleth-maps/)\n",
        "- [`plotly`, Plotly Python Open Source Graphing Library Maps](https://plotly.com/python/maps/)\n",
        "\n",
        "### Mapbox and Tile-Based Maps\n",
        "\n",
        "Now on to tile-based maps. ***Mapbox maps*** are tile-based maps that are rendered using tiles that join together to form the map plot. Mapbox tile maps are layer-based, where the base map layer is defined by `layout.mapbox.style`. The data layer plotted on the base map is controlled by a `plotly.express` or `graph_object` function. `layout.mapbox.layers` can define additional layers as needed.\n",
        "\n",
        "In the default `plotly` settings, these layers are rendered in the following order:\n",
        "- base layer (`layout.mapbox.style`)\n",
        "- data layer (`trace` object)\n",
        "- additional layers (`layout.mapbox.layers`)\n",
        "\n",
        "In these examples, Mapbox refers to the open-source Mapbox GL JavaScript library. The Mapbox JavaScript library is integrated into `plotly`. Some components of Mapbox are available without an access token. Other Mapbox components require an access token to use.\n",
        "\n",
        "Navigate to https://docs.mapbox.com/help/how-mapbox-works/access-tokens/ to set up a free Mapbox account and obtain an access token. When needed, the token can be set using the `px.set_mapbox_access_token()` configuration function.\n",
        "\n"
      ],
      "metadata": {
        "id": "QkXBjFrCBXiE"
      }
    },
    {
      "cell_type": "markdown",
      "source": [
        "#### Base Map Layer\n",
        "\n",
        "There are a few options for base map layers using `layout.mapbox.style`. `white-bg` is an empty white canvas and includes no external HTTP requests.\n",
        "\n",
        "Raster tiles from public tile servers:\n",
        "- `open-street-map`\n",
        "- `carto-positron`\n",
        "- `carto-darkmatter`\n",
        "- `stamen-terrain`\n",
        "- `stamen-toner`\n",
        "- `stamen-watercolor`\n",
        "\n",
        "Vector tiles from Mapbox service (require access token):\n",
        "- `basic`\n",
        "- `streets`\n",
        "- `outdoors`\n",
        "- `light`\n",
        "- `dark`\n",
        "- `satellite`\n",
        "- `satellite-streets`\n",
        "\n",
        "We can also specify the base map layer using a Mapbox service style URL. These styles require an access token.\n",
        "\n",
        "Let's create a base map layer using `open-street-map`."
      ],
      "metadata": {
        "id": "EqYtW-QPBZ2k"
      }
    },
    {
      "cell_type": "code",
      "source": [
        "# load dataframe\n",
        "df = px.data.carshare()\n",
        "\n",
        "# create plot\n",
        "fig = px.scatter_mapbox(df, lat=\"centroid_lat\", lon=\"centroid_lon\", color=\"peak_hour\", size=\"car_hours\",\n",
        "                  color_continuous_scale=px.colors.cyclical.IceFire, size_max=15, zoom=10,\n",
        "                  mapbox_style=\"carto-positron\")\n",
        "# show figure\n",
        "fig.show()"
      ],
      "metadata": {
        "id": "5w-NhFeWNvMj"
      },
      "execution_count": null,
      "outputs": []
    },
    {
      "cell_type": "markdown",
      "source": [
        "We could change the value assigned to `mapbox_style` to change the base map layer style. In a situation where we are loading  a base map layer from a URL, we would set `mapbox_style` to `white-bg` to create a blank canvas for the external base map layer style.\n",
        "\n",
        "Another example that uses public tiles from the United States Geological Survey (USGS). No access token required.\n",
        "\n"
      ],
      "metadata": {
        "id": "1sHSqsSSBbN8"
      }
    },
    {
      "cell_type": "code",
      "source": [
        "# import packages\n",
        "import pandas as pd\n",
        "\n",
        "# load data\n",
        "us_cities = pd.read_csv(\"https://raw.githubusercontent.com/kwaldenphd/interactive-visualization-python/main/data/us-cities-top-1k.csv\")\n",
        "\n",
        "# create figure\n",
        "fig = px.scatter_mapbox(us_cities, lat=\"lat\", lon=\"lon\", hover_name=\"City\", hover_data=[\"State\", \"Population\"],\n",
        "                        color_discrete_sequence=[\"fuchsia\"], zoom=3, height=300)\n",
        "\n",
        "# update figure layout\n",
        "fig.update_layout(\n",
        "    mapbox_style=\"white-bg\",\n",
        "    mapbox_layers=[\n",
        "        {\n",
        "            \"below\": 'traces',\n",
        "            \"sourcetype\": \"raster\",\n",
        "            \"sourceattribution\": \"United States Geological Survey\",\n",
        "            \"source\": [\n",
        "                \"https://basemap.nationalmap.gov/arcgis/rest/services/USGSImageryOnly/MapServer/tile/{z}/{y}/{x}\"\n",
        "            ]\n",
        "        }\n",
        "      ])\n",
        "\n",
        "# update figure margin\n",
        "fig.update_layout(margin={\"r\":0,\"t\":0,\"l\":0,\"b\":0})\n",
        "\n",
        "# show figure\n",
        "fig.show()"
      ],
      "metadata": {
        "id": "JCR6zSqzNx6-"
      },
      "execution_count": null,
      "outputs": []
    },
    {
      "cell_type": "markdown",
      "source": [
        "One last example using `dark` from the Mapbox service. An access token is required."
      ],
      "metadata": {
        "id": "pthE9xgKBdB_"
      }
    },
    {
      "cell_type": "code",
      "source": [
        "# set mapbox access token\n",
        "px.set_mapbox_access_token(\"YOUR ACCESS TOKEN GOES HERE\")\n",
        "\n",
        "# import plotly\n",
        "import plotly.express as px\n",
        "\n",
        "# load dataframe\n",
        "df = px.data.carshare()\n",
        "\n",
        "# create plot\n",
        "fig = px.scatter_mapbox(df, lat=\"centroid_lat\", lon=\"centroid_lon\", color=\"peak_hour\", size=\"car_hours\",\n",
        "                  color_continuous_scale=px.colors.cyclical.IceFire, size_max=15, zoom=10,\n",
        "                  mapbox_style=\"dark\")\n",
        "\n",
        "# update figure layout\n",
        "fig.update_layout(margin={\"r\":0,\"t\":0,\"l\":0,\"b\":0})\n",
        "\n",
        "# show figure\n",
        "fig.show()"
      ],
      "metadata": {
        "id": "O-Yu-_KQN0OA"
      },
      "execution_count": null,
      "outputs": []
    },
    {
      "cell_type": "markdown",
      "source": [
        "#### Point data\n",
        "\n",
        "Now we can use the `px.scatter_mapbox()` function to add point data to our figure. This example takes the `open-street-map` base map from the previous section and adds point data for 1,000 US cities with the highest population count."
      ],
      "metadata": {
        "id": "qkhN0v5wBfAB"
      }
    },
    {
      "cell_type": "code",
      "source": [
        "# import pandas\n",
        "import pandas as pd\n",
        "\n",
        "# load dataframe\n",
        "us_cities = pd.read_csv(\"https://raw.githubusercontent.com/kwaldenphd/interactive-visualization-python/main/data/us-cities-top-1k.csv\")\n",
        "\n",
        "# create figure\n",
        "fig = px.scatter_mapbox(us_cities, lat=\"lat\", lon=\"lon\", hover_name=\"City\", hover_data=[\"State\", \"Population\"],\n",
        "                        color_discrete_sequence=[\"fuchsia\"], zoom=3, height=300)\n",
        "\n",
        "# update figure base map\n",
        "fig.update_layout(mapbox_style=\"open-street-map\")\n",
        "\n",
        "# update figure layout\n",
        "fig.update_layout(margin={\"r\":0,\"t\":0,\"l\":0,\"b\":0})\n",
        "\n",
        "# show figure\n",
        "fig.show()"
      ],
      "metadata": {
        "id": "efSYgirrN2j6"
      },
      "execution_count": null,
      "outputs": []
    },
    {
      "cell_type": "markdown",
      "source": [
        "We specify which fields in the `us_cities` dataframe include latitude and longitude information (`lat` and `lon`). We set a color sequence with discrete colors. But since no field is assigned for a color attribute, all points are the same color.\n",
        "\n",
        "If we wanted to color the points based on population size, we would want to switch to a continuous color scale."
      ],
      "metadata": {
        "id": "WGcofR-zBg2g"
      }
    },
    {
      "cell_type": "code",
      "source": [
        "# color points based on population value\n",
        "fig = px.scatter_mapbox(us_cities, lat=\"lat\", lon=\"lon\", hover_name=\"City\", hover_data=[\"State\", \"Population\"],\n",
        "                        color_continuous_scale=px.colors.sequential.Viridis, color=\"Population\", zoom=3, height=300)"
      ],
      "metadata": {
        "id": "4W8R-IJVN4tw"
      },
      "execution_count": null,
      "outputs": []
    },
    {
      "cell_type": "markdown",
      "source": [
        "If we wanted our point size to be based on the population value, we would modify the `size` parameter."
      ],
      "metadata": {
        "id": "gzj3OAUABiHx"
      }
    },
    {
      "cell_type": "code",
      "source": [
        "# size points based on population value\n",
        "fig = px.scatter_mapbox(us_cities, lat=\"lat\", lon=\"lon\", hover_name=\"City\", hover_data=[\"State\", \"Population\"],\n",
        "                        color_discrete_sequence=[\"fuchsia\"], zoom=3, height=300, size=\"Population\")"
      ],
      "metadata": {
        "id": "mVaL-FzIN6t0"
      },
      "execution_count": null,
      "outputs": []
    },
    {
      "cell_type": "markdown",
      "source": [
        "Another example that uses rideshare data for Montreal. In this example, point size is based on the number of car hours (`car_hours`) and point color is based on time of day (`peak_hour`)."
      ],
      "metadata": {
        "id": "1FCqS238BkER"
      }
    },
    {
      "cell_type": "code",
      "source": [
        "# set mapbox access token\n",
        "px.set_mapbox_access_token(\"YOUR TOKEN GOES HERE\")\n",
        "\n",
        "# load data\n",
        "df = px.data.carshare()\n",
        "\n",
        "# create figure\n",
        "fig = px.scatter_mapbox(df, lat=\"centroid_lat\", lon=\"centroid_lon\", color=\"peak_hour\", size=\"car_hours\", color_continuous_scale=px.colors.cyclical.IceFire, size_max=15, zoom=10)\n",
        "\n",
        "# show figure\n",
        "fig.show()"
      ],
      "metadata": {
        "id": "KhC3adKRN9pp"
      },
      "execution_count": null,
      "outputs": []
    },
    {
      "cell_type": "markdown",
      "source": [
        "We pass the entire dataframe to `px.scatter_mapbox` and specify which fields include geospatial information. We set `color` and `size` and assign a maximum size for the points. \n",
        "\n",
        "`plotly` includes a number of built-in discrete and continuous colormaps. To learn more about the built-in colormap options:\n",
        "- [`plotly`, Continuous Color Scales and Color Bars in Python](https://plotly.com/python/colorscales/#color-scales-in-plotly-express)\n",
        "- [`plotly`, Built-In Continuous Color Scales in Python](https://plotly.com/python/builtin-colorscales/#using-builtin-continuous-color-scales)\n",
        "- [`plotly`, Discrete Colors in Python](https://plotly.com/python/discrete-color/)\n",
        "\n",
        "We can also use `px.scatter_mapbox()` in combination with `GeoPandas`. An example that includes point data for natural earth cities."
      ],
      "metadata": {
        "id": "-kXRT-QwBl54"
      }
    },
    {
      "cell_type": "code",
      "source": [
        "# import geopandas\n",
        "import geopandas as gpd\n",
        "\n",
        "# load data\n",
        "geo_df = gpd.read_file(gpd.datasets.get_path('naturalearth_cities'))\n",
        "\n",
        "# set mapbox access token\n",
        "px.set_mapbox_access_token(open(\".mapbox_token\").read())\n",
        "\n",
        "# create figure\n",
        "fig = px.scatter_mapbox(geo_df,\n",
        "                        lat=geo_df.geometry.y,\n",
        "                        lon=geo_df.geometry.x,\n",
        "                        hover_name=\"name\",\n",
        "                        zoom=1)\n",
        "# show figure\n",
        "fig.show()"
      ],
      "metadata": {
        "id": "0bszB-e-SZlF"
      },
      "execution_count": null,
      "outputs": []
    },
    {
      "cell_type": "markdown",
      "source": [
        "#### Polygon Data\n",
        "\n",
        "We can also create tile-map choropleth maps using the `px.choropleth_mapbox()` function. Tile-map choropleth maps require the same two main types of input to generate a map:\n",
        "- ***Geometry information***: can be supplied using a GeoJSON file in which each feature (polygon) has an id field that can be used to connect attribute data;\n",
        "  * `plotly` includes built-in geometries for US states and world countries\n",
        "- ***Attribute data***, or a list of values indexed by feature identifiers (an id reflected in the geometry information)\n",
        "\n",
        "We'll use the same county unemployment data from the previous choropleth map section. With `px.choropleth_mapbox()`, each row of the dataframe is represented by a polygon. A sample choropleth map of the county unemployment data, using the base layer `carto-positron` which does not require an access token."
      ],
      "metadata": {
        "id": "qI2G2w3dBnuU"
      }
    },
    {
      "cell_type": "code",
      "source": [
        "# import urllib\n",
        "from urllib.request import urlopen\n",
        "\n",
        "# import json\n",
        "import json\n",
        "\n",
        "# load geojson data\n",
        "with urlopen('https://raw.githubusercontent.com/kwaldenphd/interactive-visualization-python/main/data/geojson-counties-fips.json') as response:\n",
        "    counties = json.load(response)\n",
        "\n",
        "# import pandas\n",
        "import pandas as pd\n",
        "\n",
        "# load attribute data as dataframe\n",
        "df = pd.read_csv(\"https://raw.githubusercontent.com/kwaldenphd/interactive-visualization-python/main/data/fips-unemp-16.csv\",\n",
        "                   dtype={\"fips\": str})\n",
        "\n",
        "# create figure\n",
        "fig = px.choropleth_mapbox(df, geojson=counties, locations='fips', color='unemp',\n",
        "                           color_continuous_scale=\"Viridis\",\n",
        "                           range_color=(0, 12),\n",
        "                           mapbox_style=\"carto-positron\",\n",
        "                           zoom=3, center = {\"lat\": 37.0902, \"lon\": -95.7129},\n",
        "                           opacity=0.5,\n",
        "                           labels={'unemp':'unemployment rate'}\n",
        "                          )\n",
        "\n",
        "# update figure layout\n",
        "fig.update_layout(margin={\"r\":0,\"t\":0,\"l\":0,\"b\":0})\n",
        "\n",
        "# show figure\n",
        "fig.show()"
      ],
      "metadata": {
        "id": "CgUQ4bCOSbPB"
      },
      "execution_count": null,
      "outputs": []
    },
    {
      "cell_type": "markdown",
      "source": [
        "And again, we have a choropleth map showing unemployment rates for US counties. A few notes on this example:\n",
        "- In this example, we set the `counties` GeoJSON as the geometric data.\n",
        "- We specify the common field to use to connect the two datasets, `fips`.\n",
        "- We base polygon color on the `unemp` field using `color`.\n",
        "- We set the number of colors or color range using `range_color`.\n",
        "- We select a continuous colormap using `color_continuous_scale`.\n",
        "- And we update the `unemp` field name using `labels`.\n",
        "\n",
        "For more on tile-based maps in `plotly`:\n",
        "- [`plotly`, Map Configuration and Styling in Python](https://plotly.com/python/map-configuration/)\n",
        "- [`plotly`, Mapbox Map Layers in Python](https://plotly.com/python/mapbox-layers/)\n",
        "- [`plotly`, Scatter Plots on Mapbox in Python](https://plotly.com/python/scattermapbox/)\n",
        "- [`plotly`, Mapbox Choropleth Maps in Python](https://plotly.com/python/mapbox-county-choropleth/)\n",
        "- [`plotly`, Plotly Python Open Source Graphing Library Maps](https://plotly.com/python/maps/)\n",
        "\n",
        "## Lab Notebook Question 2\n",
        "\n",
        "<table>\n",
        " <tr><td>\n",
        "<img src=\"https://elearn.southampton.ac.uk/wp-content/blogs.dir/sites/64/2021/04/PanPan.png\" alt=\"Panopto logo\" width=\"50\"/></td>\n",
        "<td><a href=\"https://notredame.hosted.panopto.com/Panopto/Pages/Viewer.aspx?id=7d148e6a-f514-409a-af42-ae3d005c3045\">Lab Notebook Question 2</a></td>\n",
        "  </tr>\n",
        "  </table>\n",
        "\n",
        "Q2: Build at least two different types of maps using plotly. Include code + comments.\n",
        "- *I encourage folks to use this question to explore visualizations you might use for the final project.*\n",
        "\n",
        "Each plot should include the following elements:\n",
        "- Title\n",
        "- Hover labels\n",
        "- Scale\n",
        "- Data source\n",
        "\n",
        "Types of maps to choose from:\n",
        "- Geo Maps, or Outline-Based Maps\n",
        "  * Point map, `px.scatter_geo()`\n",
        "  * Choropleth map `px.choropleth()`\n",
        "- Mapbox or Tile-Based Maps\n",
        "  * Point map, `px.scatter_mapbox()`\n",
        "  * Choropleth map, `px.choropleth_mapbox()`\n"
      ],
      "metadata": {
        "id": "kS2z0oARBp8R"
      }
    },
    {
      "cell_type": "markdown",
      "source": [
        "# Additional Plot Types and Resources\n",
        "\n",
        "Dot plots:\n",
        "- [`plotly`, Dot Plots in Python](https://plotly.com/python/dot-plots/)\n",
        "\n",
        "Gantt charts:\n",
        "- [`plotly`, Gantt Charts in Python](https://plotly.com/python/gantt/)\n",
        "- [`plotly.figure_factory.create_gantt`](https://plotly.com/python-api-reference/generated/plotly.figure_factory.create_gantt.html)\n",
        "\n",
        "Filled area plots:\n",
        "- [`plotly`, Filled Area Plots in Python](https://plotly.com/python/filled-area-plots/)\n",
        "- [`plotly`, Python Figure Reference: `scatter` Traces](https://plotly.com/python/reference/scatter)\n",
        "  * [`line` parameter](https://plotly.com/python/reference/scatter/#scatter-line)\n",
        "  * [`fill` parameter](https://plotly.com/python/reference/scatter/#scatter-fill)\n",
        " \n",
        "Sankey Diagram:\n",
        "- [`plotly`, Sankey Diagram in Python](https://plotly.com/python/sankey-diagram/)\n",
        "- [`plotly`, Python Figure Reference: `sankey` Traces](https://plotly.com/python/reference/sankey)\n",
        "\n",
        "Treemap charts:\n",
        "- [`plotly`, Treemap Charts in Python](https://plotly.com/python/treemaps/)\n",
        "- [`plotly.express.treemap`](https://plotly.com/python-api-reference/generated/plotly.express.treemap)\n",
        "- [`plotly`, Python Figure Reference: `treemap` Traces](https://plotly.com/python/reference/treemap)\n",
        "\n",
        "For more types of statistical charts:\n",
        "- [`plotly`, Plotly Python Open Source Graphing Library Statistical Charts](https://plotly.com/python/statistical-charts/)\n",
        "\n",
        "For more types of scientific charts:\n",
        "- [`plotly`, Plotly Python Open Source Graphing Library Scientific Charts](https://plotly.com/python/scientific-charts/)\n",
        "\n",
        "For more types of financial charts:\n",
        "- [`plotly`, Plotly Python Open Source Graphing Library Financial Charts](https://plotly.com/python/financial-charts/)\n",
        "\n",
        "For more types of maps:\n",
        "- [`plotly`, Plotly Open Source Graphing Library Maps](https://plotly.com/python/maps/)\n",
        "\n",
        "Full gallery of chart types:\n",
        "- [`plotly`, Plotly Python Open Source Graphing Library](https://plotly.com/python/)"
      ],
      "metadata": {
        "id": "y9Izf46hCEga"
      }
    },
    {
      "cell_type": "markdown",
      "source": [
        "# Exporting from `plotly`\n",
        "\n",
        "<table>\n",
        " <tr><td>\n",
        "<img src=\"https://elearn.southampton.ac.uk/wp-content/blogs.dir/sites/64/2021/04/PanPan.png\" alt=\"Panopto logo\" width=\"50\"/></td>\n",
        "<td><a href=\"https://notredame.hosted.panopto.com/Panopto/Pages/Viewer.aspx?id=9b28d303-5222-411a-b8fc-ae3d005cf32f\">Exporting From Plotly</a></td>\n",
        "  </tr>\n",
        "  </table>\n",
        "\n",
        "`plotly` figures are interactive when viewed in a web browser. But since version 4.0, `plotly` is offline only, which means all figures are rendered in the local environment. Even if figures are displayed in a web browser window, the figure does not exist online--the web browser is loading a figure from the local environment.\n",
        "\n",
        "  * For more on `plotly`'s move to offline-only: plotly, [\"Plotly.py 4.0 is here: Offline Only, Express First, Displayable Anywhere\"](https://medium.com/plotly/plotly-py-4-0-is-here-offline-only-express-first-displayable-anywhere-fc444e5659ee) *Medium* (22 July 2019).\n"
      ],
      "metadata": {
        "id": "tlaosLv3CF3y"
      }
    },
    {
      "cell_type": "markdown",
      "source": [
        "## Static Image export\n",
        "\n",
        "We can export `plotly` figures as static image file formats (`.png`, `.jpeg`, `.svg`, and `.pdf`). Static image generation requires the [`Kaleido` package](https://github.com/plotly/Kaleido).\n",
        "\n",
        "To install `Kaleido`:\n",
        "- using `pip`: `pip install kaleido`\n",
        "- using `conda`: `conda install conda-forge python-kaleido`\n",
        "\n",
        "Once a figure has been created, we can use the `.write_image()` method in combination with `plotly` to write the figure to an image file.\n",
        "\n",
        "```Python\n",
        "# write to png\n",
        "fig.write_image(\"filepath/filename.png\")\n",
        "\n",
        "# write to jpeg\n",
        "fig.write_image(\"filepath/filename.jpeg\")\n",
        "\n",
        "# write to svg\n",
        "fig.write_image(\"filepath/filename.svg\")\n",
        "\n",
        "# write to pdf\n",
        "fig.write_image(\"filepath/filename.pdf\")\n",
        "```\n",
        "\n",
        "For more on static image export: [`plotly`, Static Image Export in Python](https://plotly.com/python/static-image-export/)\n",
        "\n",
        "<blockquote>Q3: Add to the code for at least one of the figures generated earlier in this lab to save the figure as a static image. Include code + comments.</blockquote>\n"
      ],
      "metadata": {
        "id": "veoYB8OXCH7L"
      }
    },
    {
      "cell_type": "markdown",
      "source": [
        "## Saving to HTML\n",
        "\n",
        "We can also export `plotly` figures as `HTML` files which can be loaded in a web browser. Unlike static image exports, these `HTML` files will include the interactivity of the `plotly` figure. Once a figure has been created, we can use the `.write_html()` method to save the figure as an `HTML` file.\n",
        "\n",
        "```Python\n",
        "# save to html\n",
        "fig.write_html(\"filepath/filename.html\")\n",
        "```\n",
        "\n",
        "For more on HTML file export: [`plotly`, Interactive HTML Export in Python](https://plotly.com/python/interactive-html-export/)\n",
        "\n",
        "<blockquote>Q4: Add to the code for at least one of the figures generated earlier in this lab to save the figure as an HTML file. Include code + comments.</blockquote>\n"
      ],
      "metadata": {
        "id": "NgCwIGJfCJb5"
      }
    },
    {
      "cell_type": "markdown",
      "source": [
        "## `dash`\n",
        "\n",
        "`plotly` figures can also be part of an interactive web app built using `dash`. [For more on getting started with `dash`](https://github.com/kwaldenphd/dash-python/)"
      ],
      "metadata": {
        "id": "mc9k8OgBCKu8"
      }
    },
    {
      "cell_type": "markdown",
      "source": [
        "# Lab Notebook Questions\n",
        "\n",
        "[Link to access the lab notebook template (Jupyter Notebook)](https://drive.google.com/file/d/1J4UZ0HBBSQYzTjbzAelzfwgSZ-YIdKeN/view?usp=sharing)\n",
        "\n",
        "Q1: Build at least three different types of plots using plotly and data stored in a Pandas DataFrame. Include code + comments.\n",
        "- *I encourage folks to use this question to explore visualizations you might use for the final project.*\n",
        "\n",
        "Each plot should include the following elements:\n",
        "- Title\n",
        "- Axis labels\n",
        "- Legend\n",
        "- Scale or tickmarks\n",
        "- Hover label\n",
        "- Data source\n",
        " \n",
        "Plot types to choose from:\n",
        "- Line plots\n",
        "- Bar chart\n",
        "- Grouped bar chart\n",
        "- Horizontal bar chart\n",
        "- Stacked bar chart\n",
        "- Histogram\n",
        "- Box plot\n",
        "- Area plot\n",
        "- Scatter plot\n",
        "- Pie chart\n",
        "- Donut chart\n",
        "- Sunburst chart\n",
        "- Table\n",
        "\n",
        "Q2: Build at least two different types of maps using plotly. Include code + comments.\n",
        "- *I encourage folks to use this question to explore visualizations you might use for the final project.*\n",
        "\n",
        "Each plot should include the following elements:\n",
        "- Title\n",
        "- Hover labels\n",
        "- Scale\n",
        "- Data source\n",
        "\n",
        "Types of maps to choose from:\n",
        "- Geo Maps, or Outline-Based Maps\n",
        "  * Point map, `px.scatter_geo()`\n",
        "  * Choropleth map `px.choropleth()`\n",
        "- Mapbox or Tile-Based Maps\n",
        "  * Point map, `px.scatter_mapbox()`\n",
        "  * Choropleth map, `px.choropleth_mapbox()`\n",
        "\n",
        "Q3: Add to the code for at least one of the figures generated earlier in this lab to save the figure as a static image. Include code + comments.\n",
        "\n",
        "Q4: Add to the code for at least one of the figures generated earlier in this lab to save the figure as an HTML file. Include code + comments."
      ],
      "metadata": {
        "id": "jp_HyxuuCMXY"
      }
    }
  ],
  "metadata": {
    "kernelspec": {
      "display_name": "Python 3 (ipykernel)",
      "language": "python",
      "name": "python3"
    },
    "language_info": {
      "codemirror_mode": {
        "name": "ipython",
        "version": 3
      },
      "file_extension": ".py",
      "mimetype": "text/x-python",
      "name": "python",
      "nbconvert_exporter": "python",
      "pygments_lexer": "ipython3",
      "version": "3.9.7"
    },
    "colab": {
      "provenance": [],
      "toc_visible": true,
      "include_colab_link": true
    }
  },
  "nbformat": 4,
  "nbformat_minor": 0
}