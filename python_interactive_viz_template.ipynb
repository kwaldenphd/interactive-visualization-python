{
  "cells": [
    {
      "cell_type": "markdown",
      "metadata": {
        "id": "view-in-github",
        "colab_type": "text"
      },
      "source": [
        "<a href=\"https://colab.research.google.com/github/kwaldenphd/interactive-visualization-python/blob/main/python_interactive_viz_template.ipynb\" target=\"_parent\"><img src=\"https://colab.research.google.com/assets/colab-badge.svg\" alt=\"Open In Colab\"/></a>"
      ]
    },
    {
      "cell_type": "markdown",
      "source": [
        "# Interactive Visualization in Python\n",
        "\n",
        "Student Name: **Enter Your Name Here (Double click to edit)**\n",
        "<br>\n",
        "Net ID: **Enter Your NetID Here (Double click to edit)**\n",
        "<br>"
      ],
      "metadata": {
        "id": "cCPjTHZS4udx"
      }
    },
    {
      "cell_type": "markdown",
      "source": [
        "## Lab Notebook Questions"
      ],
      "metadata": {
        "id": "3bCYEQCrsWB1"
      }
    },
    {
      "cell_type": "markdown",
      "metadata": {
        "id": "wkXvsCALsPlM"
      },
      "source": [
        "### <b>Q1: Build at least three different types of figures using plotly and data stored in a Pandas DataFrame. Include code + comments.\n",
        "\n",
        "- <em>I encourage folks to use this question to explore visualizations you might use for the final project.</em>\n",
        "\n",
        "Each plot should include the following elements:\n",
        "- Title\n",
        "- Axis labels\n",
        "- Legend\n",
        "- Scale or tickmarks\n",
        "- Hover label\n",
        "- Data source\n",
        "\n",
        "Plot types to choose from:\n",
        "- Line plots\n",
        "- Bar chart\n",
        "- Grouped bar chart\n",
        "- Horizontal bar chart\n",
        "- Stacked bar chart\n",
        "- Histogram\n",
        "- Box plot\n",
        "- Area plot\n",
        "- Scatter plot\n",
        "- Pie chart\n",
        "- Donut chart\n",
        "- Sunburst chart\n",
        "- Table</b>"
      ]
    },
    {
      "cell_type": "markdown",
      "metadata": {
        "id": "dvKRIoGssPlQ"
      },
      "source": [
        "**AnswerQ1**: Your answer here (double click to edit)"
      ]
    },
    {
      "cell_type": "code",
      "execution_count": null,
      "metadata": {
        "id": "XsSBNv02sPlS"
      },
      "outputs": [],
      "source": [
        "# code for first Q1 figure"
      ]
    },
    {
      "cell_type": "code",
      "execution_count": null,
      "metadata": {
        "id": "MeWGYivwsp5V"
      },
      "outputs": [],
      "source": [
        "# code for second Q1 figure"
      ]
    },
    {
      "cell_type": "code",
      "execution_count": null,
      "metadata": {
        "id": "EKEzTonTsp_s"
      },
      "outputs": [],
      "source": [
        "# code for third Q1 figure"
      ]
    },
    {
      "cell_type": "markdown",
      "metadata": {
        "id": "K8QYeG_PsPlV"
      },
      "source": [
        "### <b>Q2: Build at least two different types of maps using plotly. Include code + comments. Each plot should include the following elements:\n",
        "- <em>I encourage folks to use this question to explore visualizations you might use for the final project.</em>\n",
        "\n",
        "- Title\n",
        "- Hover labels\n",
        "- Scale\n",
        "- Data source\n",
        "\n",
        "Types of maps to choose from:\n",
        "- Geo Maps, or Outline-Based Maps\n",
        "  * Point map, `px.scatter_geo()`\n",
        "  * Choropleth map `px.choropleth()`\n",
        "- Mapbox or Tile-Based Maps\n",
        "  * Point map, `px.scatter_mapbox()`\n",
        "  * Choropleth map, `px.choropleth_mapbox()`</b>"
      ]
    },
    {
      "cell_type": "markdown",
      "metadata": {
        "id": "XSdsIxj3sPlX"
      },
      "source": [
        "**AnswerQ2**: Your answer here (double click to edit)"
      ]
    },
    {
      "cell_type": "code",
      "execution_count": null,
      "metadata": {
        "id": "UPJD8a07sPlZ"
      },
      "outputs": [],
      "source": [
        "# code for first Q2 figure"
      ]
    },
    {
      "cell_type": "code",
      "execution_count": null,
      "metadata": {
        "id": "ihe7btL7stOY"
      },
      "outputs": [],
      "source": [
        "# code for second Q2 figure"
      ]
    },
    {
      "cell_type": "markdown",
      "metadata": {
        "id": "Y5V6p82TsPlb"
      },
      "source": [
        "### **Q3: Add to the code for at least one of the figures generated earlier in this lab to save the figure as a static image. Include code + comments.**"
      ]
    },
    {
      "cell_type": "markdown",
      "metadata": {
        "id": "AyA6FJc6sPld"
      },
      "source": [
        "**AnswerQ3**: Your answer here (double click to edit)"
      ]
    },
    {
      "cell_type": "code",
      "execution_count": null,
      "metadata": {
        "id": "IjQQ_dRssPlf"
      },
      "outputs": [],
      "source": [
        "# your codes here (if needed)"
      ]
    },
    {
      "cell_type": "markdown",
      "metadata": {
        "id": "07FJrZK0sPlg"
      },
      "source": [
        "### **Q4: Add to the code for at least one of the figures generated earlier in this lab to save the figure as an HTML file. Include code + comments.**"
      ]
    },
    {
      "cell_type": "markdown",
      "metadata": {
        "id": "31fgcUqYsPlh"
      },
      "source": [
        "**AnswerQ4**: Your answer here (double click to edit)"
      ]
    },
    {
      "cell_type": "code",
      "execution_count": null,
      "metadata": {
        "id": "UNFngCblsPlk"
      },
      "outputs": [],
      "source": [
        "# your codes here (if needed)"
      ]
    }
  ],
  "metadata": {
    "kernelspec": {
      "display_name": "Python 3",
      "language": "python",
      "name": "python3"
    },
    "language_info": {
      "codemirror_mode": {
        "name": "ipython",
        "version": 3
      },
      "file_extension": ".py",
      "mimetype": "text/x-python",
      "name": "python",
      "nbconvert_exporter": "python",
      "pygments_lexer": "ipython3",
      "version": "3.8.5"
    },
    "colab": {
      "name": "python-interactive-viz-template.ipynb",
      "provenance": [],
      "toc_visible": true,
      "include_colab_link": true
    }
  },
  "nbformat": 4,
  "nbformat_minor": 0
}